{
 "cells": [
  {
   "cell_type": "code",
   "execution_count": 2,
   "id": "918d24d7-c2c3-48d3-936d-bfb4617e7fd5",
   "metadata": {},
   "outputs": [],
   "source": [
    "import pandas as pd \n",
    "import os \n"
   ]
  },
  {
   "cell_type": "code",
   "execution_count": 25,
   "id": "aed4f37b-f033-4bf7-a22f-c480a14b39d3",
   "metadata": {},
   "outputs": [
    {
     "data": {
      "text/plain": [
       "['credits.csv',\n",
       " 'keywords.csv',\n",
       " 'links.csv',\n",
       " 'links_small.csv',\n",
       " 'movies_metadata.csv',\n",
       " 'ratings.csv',\n",
       " 'ratings_small.csv']"
      ]
     },
     "execution_count": 25,
     "metadata": {},
     "output_type": "execute_result"
    }
   ],
   "source": [
    "os.listdir(\"./data/in/the-movies-dataset\")"
   ]
  },
  {
   "cell_type": "code",
   "execution_count": 28,
   "id": "253a34ef-daff-4ec0-b1fa-b29d0f67d373",
   "metadata": {},
   "outputs": [],
   "source": [
    "df = pd.read_csv('./data/in/the-movies-dataset/credits.csv')"
   ]
  },
  {
   "cell_type": "code",
   "execution_count": 33,
   "id": "f845ebf8-4028-4e85-8d91-5d3b7df0c911",
   "metadata": {},
   "outputs": [
    {
     "data": {
      "text/plain": [
       "'[{\\'cast_id\\': 1, \\'character\\': \"Savannah \\'Vannah\\' Jackson\", \\'credit_id\\': \\'52fe44779251416c91011aad\\', \\'gender\\': 1, \\'id\\': 8851, \\'name\\': \\'Whitney Houston\\', \\'order\\': 0, \\'profile_path\\': \\'/69ouDnXnmklYPr4sMJXWKYz81AL.jpg\\'}, {\\'cast_id\\': 2, \\'character\\': \"Bernadine \\'Bernie\\' Harris\", \\'credit_id\\': \\'52fe44779251416c91011ab1\\', \\'gender\\': 1, \\'id\\': 9780, \\'name\\': \\'Angela Bassett\\', \\'order\\': 1, \\'profile_path\\': \\'/tHkgSzhEuJKp5hqp0DZLad8HNZ9.jpg\\'}, {\\'cast_id\\': 3, \\'character\\': \"Gloria \\'Glo\\' Matthews\", \\'credit_id\\': \\'52fe44779251416c91011ab5\\', \\'gender\\': 1, \\'id\\': 18284, \\'name\\': \\'Loretta Devine\\', \\'order\\': 2, \\'profile_path\\': \\'/zLQFwQTFtHkb8sbFdkPNamFI7jv.jpg\\'}, {\\'cast_id\\': 4, \\'character\\': \\'Robin Stokes\\', \\'credit_id\\': \\'52fe44779251416c91011ab9\\', \\'gender\\': 1, \\'id\\': 51359, \\'name\\': \\'Lela Rochon\\', \\'order\\': 3, \\'profile_path\\': \\'/9DBu3r5O4fBosSS4FnSzFCVpm0O.jpg\\'}, {\\'cast_id\\': 5, \\'character\\': \\'Marvin King\\', \\'credit_id\\': \\'52fe44779251416c91011abd\\', \\'gender\\': 2, \\'id\\': 66804, \\'name\\': \\'Gregory Hines\\', \\'order\\': 4, \\'profile_path\\': \\'/rvvQWFQGeGR14WFVNe0Qg1J7uVY.jpg\\'}, {\\'cast_id\\': 6, \\'character\\': \\'Kenneth Dawkins\\', \\'credit_id\\': \\'52fe44779251416c91011ac1\\', \\'gender\\': 2, \\'id\\': 352, \\'name\\': \\'Dennis Haysbert\\', \\'order\\': 5, \\'profile_path\\': \\'/mn5Nc5Q31GslpVVWs8p41W4TBma.jpg\\'}, {\\'cast_id\\': 8, \\'character\\': \\'John Harris, Sr.\\', \\'credit_id\\': \\'52fe44779251416c91011ac5\\', \\'gender\\': 2, \\'id\\': 87118, \\'name\\': \\'Michael Beach\\', \\'order\\': 6, \\'profile_path\\': \\'/lOlWhURNKyZHn71dvq7qC7fiwN6.jpg\\'}, {\\'cast_id\\': 10, \\'character\\': \\'Troy\\', \\'credit_id\\': \\'52fe44779251416c91011acf\\', \\'gender\\': 2, \\'id\\': 34, \\'name\\': \\'Mykelti Williamson\\', \\'order\\': 7, \\'profile_path\\': \\'/8TTxzpuvvpw2tB8xZBCDslYupNU.jpg\\'}, {\\'cast_id\\': 20, \\'character\\': \\'Joseph\\', \\'credit_id\\': \\'56d1b15fc3a3681e4a008b6b\\', \\'gender\\': 2, \\'id\\': 1276777, \\'name\\': \\'Lamont Johnson\\', \\'order\\': 8, \\'profile_path\\': \\'/wfZzRPJBdsx62GbkUimc1PShxyC.jpg\\'}, {\\'cast_id\\': 21, \\'character\\': \\'James Wheeler\\', \\'credit_id\\': \\'56f8a929c3a36816e80084f3\\', \\'gender\\': 2, \\'id\\': 10814, \\'name\\': \\'Wesley Snipes\\', \\'order\\': 9, \\'profile_path\\': \\'/hQ6EBa6vgu7HoZpzms8Y10VL5Iw.jpg\\'}]'"
      ]
     },
     "execution_count": 33,
     "metadata": {},
     "output_type": "execute_result"
    }
   ],
   "source": [
    "df.cast[3]"
   ]
  },
  {
   "cell_type": "code",
   "execution_count": 32,
   "id": "f8c783d6-ff44-4f3d-93bb-84fb79eefa5f",
   "metadata": {},
   "outputs": [
    {
     "data": {
      "text/plain": [
       "\"[{'cast_id': 1, 'character': 'Alan Parrish', 'credit_id': '52fe44bfc3a36847f80a7c73', 'gender': 2, 'id': 2157, 'name': 'Robin Williams', 'order': 0, 'profile_path': '/sojtJyIV3lkUeThD7A2oHNm8183.jpg'}, {'cast_id': 8, 'character': 'Samuel Alan Parrish / Van Pelt', 'credit_id': '52fe44bfc3a36847f80a7c99', 'gender': 2, 'id': 8537, 'name': 'Jonathan Hyde', 'order': 1, 'profile_path': '/7il5D76vx6QVRVlpVvBPEC40MBi.jpg'}, {'cast_id': 2, 'character': 'Judy Sheperd', 'credit_id': '52fe44bfc3a36847f80a7c77', 'gender': 1, 'id': 205, 'name': 'Kirsten Dunst', 'order': 2, 'profile_path': '/wBXvh6PJd0IUVNpvatPC1kzuHtm.jpg'}, {'cast_id': 24, 'character': 'Peter Shepherd', 'credit_id': '52fe44c0c3a36847f80a7ce7', 'gender': 0, 'id': 145151, 'name': 'Bradley Pierce', 'order': 3, 'profile_path': '/j6iW0vVA23GQniAPSYI6mi4hiEW.jpg'}, {'cast_id': 10, 'character': 'Sarah Whittle', 'credit_id': '52fe44bfc3a36847f80a7c9d', 'gender': 1, 'id': 5149, 'name': 'Bonnie Hunt', 'order': 4, 'profile_path': '/7spiVQwmr8siw5QCcvvdRG3c7Lf.jpg'}, {'cast_id': 25, 'character': 'Nora Shepherd', 'credit_id': '52fe44c0c3a36847f80a7ceb', 'gender': 1, 'id': 10739, 'name': 'Bebe Neuwirth', 'order': 5, 'profile_path': '/xm58rpMRVDHS0IGttw1pTlqGwkN.jpg'}, {'cast_id': 26, 'character': 'Carl Bentley', 'credit_id': '52fe44c0c3a36847f80a7cef', 'gender': 2, 'id': 58563, 'name': 'David Alan Grier', 'order': 6, 'profile_path': '/5tkt3qRZTco4sz604aTIarQ0m8W.jpg'}, {'cast_id': 11, 'character': 'Carol Anne Parrish', 'credit_id': '52fe44bfc3a36847f80a7ca1', 'gender': 1, 'id': 1276, 'name': 'Patricia Clarkson', 'order': 7, 'profile_path': '/10ZSyaUqzUlKTd60HmeiGhlytZG.jpg'}, {'cast_id': 14, 'character': 'Alan Parrish (young)', 'credit_id': '52fe44bfc3a36847f80a7cad', 'gender': 0, 'id': 46530, 'name': 'Adam Hann-Byrd', 'order': 8, 'profile_path': '/hEoqDqtMO91hYWD5iDrDesnLDlt.jpg'}, {'cast_id': 13, 'character': 'Sarah Whittle (young)', 'credit_id': '52fe44bfc3a36847f80a7ca9', 'gender': 1, 'id': 56523, 'name': 'Laura Bell Bundy', 'order': 9, 'profile_path': '/8tAVDBRoZPjKfCbBDyh4iK9JNEp.jpg'}, {'cast_id': 31, 'character': 'Exterminator', 'credit_id': '52fe44c0c3a36847f80a7cff', 'gender': 2, 'id': 51551, 'name': 'James Handy', 'order': 10, 'profile_path': '/vm0WQmuP8jEGgFTd3VCcJe7zpUi.jpg'}, {'cast_id': 12, 'character': 'Mrs. Thomas the Realtor', 'credit_id': '52fe44bfc3a36847f80a7ca5', 'gender': 1, 'id': 56522, 'name': 'Gillian Barber', 'order': 11, 'profile_path': '/qoqPX15J5jh6Sy0A9JvvRJIuw64.jpg'}, {'cast_id': 28, 'character': 'Benjamin', 'credit_id': '52fe44c0c3a36847f80a7cf3', 'gender': 2, 'id': 1000304, 'name': 'Brandon Obray', 'order': 12, 'profile_path': None}, {'cast_id': 29, 'character': 'Caleb', 'credit_id': '52fe44c0c3a36847f80a7cf7', 'gender': 0, 'id': 188949, 'name': 'Cyrus Thiedeke', 'order': 13, 'profile_path': None}, {'cast_id': 30, 'character': 'Billy Jessup', 'credit_id': '52fe44c0c3a36847f80a7cfb', 'gender': 0, 'id': 1076551, 'name': 'Gary Joseph Thorup', 'order': 14, 'profile_path': None}, {'cast_id': 32, 'character': 'Cop', 'credit_id': '5588053fc3a36838530063f5', 'gender': 0, 'id': 1480246, 'name': 'Leonard Zola', 'order': 15, 'profile_path': None}, {'cast_id': 33, 'character': 'Bum', 'credit_id': '55935687925141645a002097', 'gender': 2, 'id': 25024, 'name': 'Lloyd Berry', 'order': 16, 'profile_path': '/s7SVCOtvcuQ9wRQPZfUdahb5x88.jpg'}, {'cast_id': 34, 'character': 'Jim Shepherd', 'credit_id': '559356d09251415df8002cb7', 'gender': 2, 'id': 27110, 'name': 'Malcolm Stewart', 'order': 17, 'profile_path': '/l2vgzkLR7GRr8ugjZCILA0OiliI.jpg'}, {'cast_id': 35, 'character': 'Martha Shepherd', 'credit_id': '55935730925141645a0020ad', 'gender': 0, 'id': 53715, 'name': 'Annabel Kershaw', 'order': 18, 'profile_path': '/1VqbvAohBwFhETZtDe76JXQcxKm.jpg'}, {'cast_id': 36, 'character': 'Gun Salesman', 'credit_id': '5593576992514167fd000610', 'gender': 2, 'id': 1379424, 'name': 'Darryl Henriques', 'order': 19, 'profile_path': '/7QMHooY9ewNQlE24WKAOdwW0evU.jpg'}, {'cast_id': 37, 'character': 'Paramedic', 'credit_id': '559357ae92514152de002f42', 'gender': 0, 'id': 1235504, 'name': 'Robyn Driscoll', 'order': 20, 'profile_path': None}, {'cast_id': 50, 'character': 'Paramedic', 'credit_id': '5657803b925141018f00a5dc', 'gender': 2, 'id': 25389, 'name': 'Peter Bryant', 'order': 21, 'profile_path': '/fkcx9Tnp25UC5HlI2eW3nGvumsZ.jpg'}, {'cast_id': 39, 'character': 'Girl', 'credit_id': '559358e292514152de002f63', 'gender': 0, 'id': 1483449, 'name': 'Sarah Gilson', 'order': 22, 'profile_path': None}, {'cast_id': 40, 'character': 'Girl', 'credit_id': '5593590d92514152db002df3', 'gender': 0, 'id': 1483450, 'name': 'Florica Vlad', 'order': 23, 'profile_path': None}, {'cast_id': 41, 'character': 'Baker', 'credit_id': '55935946c3a36869d1001b4d', 'gender': 0, 'id': 1483451, 'name': 'June Lion', 'order': 24, 'profile_path': None}, {'cast_id': 42, 'character': 'Pianist', 'credit_id': '5593597692514167fd000644', 'gender': 0, 'id': 1483452, 'name': 'Brenda Lockmuller', 'order': 25, 'profile_path': None}]\""
      ]
     },
     "execution_count": 32,
     "metadata": {},
     "output_type": "execute_result"
    }
   ],
   "source": [
    "df.cast[1]"
   ]
  },
  {
   "cell_type": "code",
   "execution_count": 47,
   "id": "d8898ffb-c283-4e31-8199-6959fc70893d",
   "metadata": {},
   "outputs": [
    {
     "data": {
      "text/plain": [
       "\"[{'cast_id': 1, 'character': 'George Banks', 'credit_id': '52fe44959251416c75039eb9', 'gender': 2, 'id': 67773, 'name': 'Steve Martin', 'order': 0, 'profile_path': '/rI2EMvkfKKPKa5z0nM2pFVBtUyO.jpg'}, {'cast_id': 2, 'character': 'Nina Banks', 'credit_id': '52fe44959251416c75039ebd', 'gender': 1, 'id': 3092, 'name': 'Diane Keaton', 'order': 1, 'profile_path': '/fzgUMnbOkxC6E3EFcYHWHFaiKyp.jpg'}, {'cast_id': 3, 'character': 'Franck Eggelhoffer', 'credit_id': '52fe44959251416c75039ec1', 'gender': 2, 'id': 519, 'name': 'Martin Short', 'order': 2, 'profile_path': '/oZQorXBjTxrdkTJFpoDwOcQ91ji.jpg'}, {'cast_id': 4, 'character': 'Annie Banks-MacKenzie', 'credit_id': '52fe44959251416c75039ec5', 'gender': 1, 'id': 70696, 'name': 'Kimberly Williams-Paisley', 'order': 3, 'profile_path': '/nVp4F4VFqVvjh6huOULUQoiAguY.jpg'}, {'cast_id': 13, 'character': 'Bryan MacKenzie', 'credit_id': '52fe44959251416c75039ef3', 'gender': 2, 'id': 59222, 'name': 'George Newbern', 'order': 4, 'profile_path': '/48Ouqe1g8QrZ6qjvap5NvhfKuly.jpg'}, {'cast_id': 14, 'character': 'Matty Banks', 'credit_id': '52fe44959251416c75039ef7', 'gender': 0, 'id': 18793, 'name': 'Kieran Culkin', 'order': 5, 'profile_path': '/swcqQCMREeGCk6FAxIfczGpFBys.jpg'}, {'cast_id': 15, 'character': 'Howard Weinstein', 'credit_id': '52fe44959251416c75039efb', 'gender': 2, 'id': 14592, 'name': 'BD Wong', 'order': 6, 'profile_path': '/o8JUV37KWNorHOabp3zyD756oE3.jpg'}, {'cast_id': 16, 'character': 'John MacKenzie', 'credit_id': '52fe44959251416c75039eff', 'gender': 2, 'id': 20906, 'name': 'Peter Michael Goetz', 'order': 7, 'profile_path': '/a2hLcCidETgwlVyQnYy4kXVKUcn.jpg'}, {'cast_id': 17, 'character': 'Joanna MacKenzie', 'credit_id': '52fe44959251416c75039f03', 'gender': 1, 'id': 54348, 'name': 'Kate McGregor-Stewart', 'order': 8, 'profile_path': '/vsvdAmMZgX85AvnVFd4jigOUipZ.jpg'}, {'cast_id': 18, 'character': 'Dr. Megan Eisenberg', 'credit_id': '52fe44959251416c75039f07', 'gender': 1, 'id': 209, 'name': 'Jane Adams', 'order': 9, 'profile_path': '/HbQfL01xmV1psnh0WvldIBzDg3.jpg'}, {'cast_id': 19, 'character': 'Mr. Habib', 'credit_id': '52fe44959251416c75039f0b', 'gender': 2, 'id': 26510, 'name': 'Eugene Levy', 'order': 10, 'profile_path': '/69IBiDjU1gSqtrcGOA7PA7aEYsc.jpg'}, {'cast_id': 20, 'character': 'Wife Mrs. Habib', 'credit_id': '57ffa654c3a3681552000277', 'gender': 1, 'id': 24358, 'name': 'Lori Alan', 'order': 11, 'profile_path': '/mNfJWzuaKgkIaK7CuirXOMosd2h.jpg'}]\""
      ]
     },
     "execution_count": 47,
     "metadata": {},
     "output_type": "execute_result"
    }
   ],
   "source": [
    "df.cast[4]"
   ]
  },
  {
   "cell_type": "code",
   "execution_count": 134,
   "id": "33a8ca8a-393e-4477-9f6d-f1cd3b28b340",
   "metadata": {},
   "outputs": [],
   "source": []
  },
  {
   "cell_type": "code",
   "execution_count": 136,
   "id": "920fe133-bca0-47f2-b7a9-a9adcd5e63f9",
   "metadata": {},
   "outputs": [],
   "source": [
    "test_str  = df.cast[4]\n",
    "res = list(eval(test_str))\n"
   ]
  },
  {
   "cell_type": "code",
   "execution_count": 139,
   "id": "91467770-4920-4508-8f05-bfdf40f4acd7",
   "metadata": {},
   "outputs": [
    {
     "data": {
      "text/plain": [
       "1"
      ]
     },
     "execution_count": 139,
     "metadata": {},
     "output_type": "execute_result"
    }
   ],
   "source": []
  },
  {
   "cell_type": "code",
   "execution_count": null,
   "id": "d701d6c7-3c3d-4647-ba3b-9441c38b6248",
   "metadata": {},
   "outputs": [],
   "source": []
  }
 ],
 "metadata": {
  "kernelspec": {
   "display_name": "Python 3 (ipykernel)",
   "language": "python",
   "name": "python3"
  },
  "language_info": {
   "codemirror_mode": {
    "name": "ipython",
    "version": 3
   },
   "file_extension": ".py",
   "mimetype": "text/x-python",
   "name": "python",
   "nbconvert_exporter": "python",
   "pygments_lexer": "ipython3",
   "version": "3.9.12"
  },
  "toc-autonumbering": true,
  "toc-showcode": true,
  "toc-showmarkdowntxt": false
 },
 "nbformat": 4,
 "nbformat_minor": 5
}
