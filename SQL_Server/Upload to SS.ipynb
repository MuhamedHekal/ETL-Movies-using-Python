{
 "cells": [
  {
   "cell_type": "code",
   "execution_count": 1,
   "id": "2a423956-64dd-44a5-aa5f-bf0d235cc3d6",
   "metadata": {
    "tags": []
   },
   "outputs": [],
   "source": [
    "import pandas as pd\n",
    "import os "
   ]
  },
  {
   "cell_type": "code",
   "execution_count": 2,
   "id": "83d73c26-5ef0-494a-9060-3d19eb89f2ad",
   "metadata": {},
   "outputs": [],
   "source": [
    "def CreateDataBase(sql):\n",
    "    from sqlalchemy import create_engine\n",
    "    import urllib\n",
    "    import pyodbc\n",
    "    connection_string = (\n",
    "        \"Driver={SQL Server Native Client 11.0};\"\n",
    "        \"Server=MUHEKAL;\"\n",
    "        \"UID=hekal;\"\n",
    "        \"PWD=000;\"\n",
    "        \"Database=MoviesDWH;\"\n",
    "    )\n",
    "    quoted = urllib.parse.quote_plus(connection_string)\n",
    "    engine = create_engine(f'mssql+pyodbc:///?odbc_connect={quoted}')\n",
    "    with engine.connect() as cnn:\n",
    "        cnn.execute(f'sql')\n",
    "        "
   ]
  },
  {
   "cell_type": "code",
   "execution_count": 3,
   "id": "deb2d53d-b0f0-453c-b489-aed81b88a33f",
   "metadata": {},
   "outputs": [],
   "source": [
    "def upload_to_ss(df,table):\n",
    "    from sqlalchemy import create_engine\n",
    "    import urllib\n",
    "    import pyodbc\n",
    "    connection_string = (\n",
    "        \"Driver={SQL Server Native Client 11.0};\"\n",
    "        \"Server=MUHEKAL;\"\n",
    "        \"UID=hekal;\"\n",
    "        \"PWD=000;\"\n",
    "        \"Database=MoviesDWH;\"\n",
    "    )\n",
    "    quoted = urllib.parse.quote_plus(connection_string)\n",
    "    engine = create_engine(f'mssql+pyodbc:///?odbc_connect={quoted}')\n",
    "    with engine.connect() as cnn:\n",
    "        df.to_sql('mytable',con=cnn, if_exists='replace', index=False)\n",
    "        cnn.execute(f'INSERT INTO {table} SELECT * FROM mytable')\n",
    "        cnn.execute('DROP TABLE mytable')\n",
    "        "
   ]
  },
  {
   "cell_type": "code",
   "execution_count": 4,
   "id": "d91b5b78-9b41-4b99-9f1d-045087e985f9",
   "metadata": {
    "tags": []
   },
   "outputs": [
    {
     "name": "stdout",
     "output_type": "stream",
     "text": [
      "Dim_Cast Start\n",
      "Dim_Cast Done\n",
      "Dim_Crew Start\n",
      "Dim_Crew Done\n",
      "Dim_Date Start\n",
      "Dim_Date Done\n",
      "Dim_Genres Start\n",
      "Dim_Genres Done\n",
      "Dim_Keywords Start\n",
      "Dim_Keywords Done\n",
      "Dim_Production_Company Start\n",
      "Dim_Production_Company Done\n",
      "Movies_Fact Start\n",
      "Movies_Fact Done\n"
     ]
    }
   ],
   "source": [
    "files = os.listdir('../data/out/')\n",
    "files = ['../data/out/' + file for file in files if file.endswith('csv')]\n",
    "for file in files :\n",
    "    df = pd.read_csv(file)\n",
    "    df = df.loc[:, df.columns != \"movie_id\"]\n",
    "    table = file.split('/')[-1].split('.')[0]\n",
    "    print(f'{table} Start')\n",
    "    upload_to_ss(df,table)\n",
    "    print(f'{table} Done')"
   ]
  },
  {
   "cell_type": "code",
   "execution_count": null,
   "id": "a7c338f5-75d0-495d-8559-956ff6362414",
   "metadata": {},
   "outputs": [],
   "source": []
  }
 ],
 "metadata": {
  "kernelspec": {
   "display_name": "Python 3 (ipykernel)",
   "language": "python",
   "name": "python3"
  },
  "language_info": {
   "codemirror_mode": {
    "name": "ipython",
    "version": 3
   },
   "file_extension": ".py",
   "mimetype": "text/x-python",
   "name": "python",
   "nbconvert_exporter": "python",
   "pygments_lexer": "ipython3",
   "version": "3.9.12"
  }
 },
 "nbformat": 4,
 "nbformat_minor": 5
}
