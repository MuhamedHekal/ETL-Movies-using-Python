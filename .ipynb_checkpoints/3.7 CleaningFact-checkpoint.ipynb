{
 "cells": [
  {
   "cell_type": "code",
   "execution_count": 1,
   "id": "2043e399-74a6-409b-994c-358f8b267f5d",
   "metadata": {},
   "outputs": [],
   "source": [
    "import pandas as pd \n",
    "import os\n",
    "from Functions import evaluate"
   ]
  },
  {
   "cell_type": "code",
   "execution_count": 2,
   "id": "8dd3893f-0eda-4b28-ae7c-02cabe702e8f",
   "metadata": {},
   "outputs": [
    {
     "data": {
      "text/plain": [
       "['.ipynb_checkpoints',\n",
       " 'cast.csv',\n",
       " 'clean_movies.csv',\n",
       " 'crew.csv',\n",
       " 'genres.csv',\n",
       " 'keywords.csv',\n",
       " 'prod_company.csv']"
      ]
     },
     "execution_count": 2,
     "metadata": {},
     "output_type": "execute_result"
    }
   ],
   "source": [
    "os.listdir(\"./data/evaluate/raw/\")"
   ]
  },
  {
   "cell_type": "code",
   "execution_count": 3,
   "id": "dda41775-c21d-4de8-b8eb-9e5e17d2edb4",
   "metadata": {},
   "outputs": [],
   "source": [
    "movies = pd.read_csv('./data/evaluate/raw/clean_movies.csv')"
   ]
  },
  {
   "cell_type": "code",
   "execution_count": 4,
   "id": "4794b134-693a-45b5-907d-7e9343bcd668",
   "metadata": {},
   "outputs": [
    {
     "data": {
      "text/html": [
       "<div>\n",
       "<style scoped>\n",
       "    .dataframe tbody tr th:only-of-type {\n",
       "        vertical-align: middle;\n",
       "    }\n",
       "\n",
       "    .dataframe tbody tr th {\n",
       "        vertical-align: top;\n",
       "    }\n",
       "\n",
       "    .dataframe thead th {\n",
       "        text-align: right;\n",
       "    }\n",
       "</style>\n",
       "<table border=\"1\" class=\"dataframe\">\n",
       "  <thead>\n",
       "    <tr style=\"text-align: right;\">\n",
       "      <th></th>\n",
       "      <th>id</th>\n",
       "      <th>adult</th>\n",
       "      <th>original_title</th>\n",
       "      <th>runtime</th>\n",
       "      <th>genres</th>\n",
       "      <th>popularity</th>\n",
       "      <th>production_companies</th>\n",
       "      <th>release_date</th>\n",
       "      <th>revenue</th>\n",
       "      <th>vote_average</th>\n",
       "    </tr>\n",
       "  </thead>\n",
       "  <tbody>\n",
       "    <tr>\n",
       "      <th>0</th>\n",
       "      <td>862</td>\n",
       "      <td>False</td>\n",
       "      <td>Toy Story</td>\n",
       "      <td>81.0</td>\n",
       "      <td>[{'id': 16, 'name': 'Animation'}, {'id': 35, '...</td>\n",
       "      <td>21.946943</td>\n",
       "      <td>[{'name': 'Pixar Animation Studios', 'id': 3}]</td>\n",
       "      <td>1995-10-30 00:00:00.000000000</td>\n",
       "      <td>373554033.0</td>\n",
       "      <td>7.7</td>\n",
       "    </tr>\n",
       "    <tr>\n",
       "      <th>1</th>\n",
       "      <td>8844</td>\n",
       "      <td>False</td>\n",
       "      <td>Jumanji</td>\n",
       "      <td>104.0</td>\n",
       "      <td>[{'id': 12, 'name': 'Adventure'}, {'id': 14, '...</td>\n",
       "      <td>17.015539</td>\n",
       "      <td>[{'name': 'TriStar Pictures', 'id': 559}, {'na...</td>\n",
       "      <td>1995-12-15 00:00:00.000000000</td>\n",
       "      <td>262797249.0</td>\n",
       "      <td>6.9</td>\n",
       "    </tr>\n",
       "  </tbody>\n",
       "</table>\n",
       "</div>"
      ],
      "text/plain": [
       "     id  adult original_title  runtime  \\\n",
       "0   862  False      Toy Story     81.0   \n",
       "1  8844  False        Jumanji    104.0   \n",
       "\n",
       "                                              genres  popularity  \\\n",
       "0  [{'id': 16, 'name': 'Animation'}, {'id': 35, '...   21.946943   \n",
       "1  [{'id': 12, 'name': 'Adventure'}, {'id': 14, '...   17.015539   \n",
       "\n",
       "                                production_companies  \\\n",
       "0     [{'name': 'Pixar Animation Studios', 'id': 3}]   \n",
       "1  [{'name': 'TriStar Pictures', 'id': 559}, {'na...   \n",
       "\n",
       "                    release_date      revenue  vote_average  \n",
       "0  1995-10-30 00:00:00.000000000  373554033.0           7.7  \n",
       "1  1995-12-15 00:00:00.000000000  262797249.0           6.9  "
      ]
     },
     "execution_count": 4,
     "metadata": {},
     "output_type": "execute_result"
    }
   ],
   "source": [
    "movies.head(2)"
   ]
  },
  {
   "cell_type": "code",
   "execution_count": 5,
   "id": "52701ae2-d089-410f-9dbf-c0d0b542157a",
   "metadata": {},
   "outputs": [
    {
     "data": {
      "text/plain": [
       "Index(['id', 'adult', 'original_title', 'runtime', 'genres', 'popularity',\n",
       "       'production_companies', 'release_date', 'revenue', 'vote_average'],\n",
       "      dtype='object')"
      ]
     },
     "execution_count": 5,
     "metadata": {},
     "output_type": "execute_result"
    }
   ],
   "source": [
    "movies.columns"
   ]
  },
  {
   "cell_type": "code",
   "execution_count": 6,
   "id": "580fab31-8613-4704-8550-69d1afe866da",
   "metadata": {},
   "outputs": [],
   "source": [
    "cols_needed = ['id', 'adult', 'original_title', 'runtime',\n",
    "               'popularity','revenue', 'vote_average']\n",
    "movies = movies[cols_needed]"
   ]
  },
  {
   "cell_type": "code",
   "execution_count": 7,
   "id": "4c7b6596-3e16-4ebb-965f-f5ff54fcff9c",
   "metadata": {},
   "outputs": [
    {
     "data": {
      "text/html": [
       "<div>\n",
       "<style scoped>\n",
       "    .dataframe tbody tr th:only-of-type {\n",
       "        vertical-align: middle;\n",
       "    }\n",
       "\n",
       "    .dataframe tbody tr th {\n",
       "        vertical-align: top;\n",
       "    }\n",
       "\n",
       "    .dataframe thead th {\n",
       "        text-align: right;\n",
       "    }\n",
       "</style>\n",
       "<table border=\"1\" class=\"dataframe\">\n",
       "  <thead>\n",
       "    <tr style=\"text-align: right;\">\n",
       "      <th></th>\n",
       "      <th>id</th>\n",
       "      <th>adult</th>\n",
       "      <th>original_title</th>\n",
       "      <th>runtime</th>\n",
       "      <th>popularity</th>\n",
       "      <th>revenue</th>\n",
       "      <th>vote_average</th>\n",
       "    </tr>\n",
       "  </thead>\n",
       "  <tbody>\n",
       "    <tr>\n",
       "      <th>0</th>\n",
       "      <td>862</td>\n",
       "      <td>False</td>\n",
       "      <td>Toy Story</td>\n",
       "      <td>81.0</td>\n",
       "      <td>21.946943</td>\n",
       "      <td>373554033.0</td>\n",
       "      <td>7.7</td>\n",
       "    </tr>\n",
       "    <tr>\n",
       "      <th>1</th>\n",
       "      <td>8844</td>\n",
       "      <td>False</td>\n",
       "      <td>Jumanji</td>\n",
       "      <td>104.0</td>\n",
       "      <td>17.015539</td>\n",
       "      <td>262797249.0</td>\n",
       "      <td>6.9</td>\n",
       "    </tr>\n",
       "  </tbody>\n",
       "</table>\n",
       "</div>"
      ],
      "text/plain": [
       "     id  adult original_title  runtime  popularity      revenue  vote_average\n",
       "0   862  False      Toy Story     81.0   21.946943  373554033.0           7.7\n",
       "1  8844  False        Jumanji    104.0   17.015539  262797249.0           6.9"
      ]
     },
     "execution_count": 7,
     "metadata": {},
     "output_type": "execute_result"
    }
   ],
   "source": [
    "movies.head(2)"
   ]
  },
  {
   "cell_type": "code",
   "execution_count": 8,
   "id": "d48ffc7b-0718-48eb-afcf-22495e903e8e",
   "metadata": {},
   "outputs": [
    {
     "name": "stdout",
     "output_type": "stream",
     "text": [
      "<class 'pandas.core.frame.DataFrame'>\n",
      "RangeIndex: 45446 entries, 0 to 45445\n",
      "Data columns (total 7 columns):\n",
      " #   Column          Non-Null Count  Dtype  \n",
      "---  ------          --------------  -----  \n",
      " 0   id              45446 non-null  int64  \n",
      " 1   adult           45446 non-null  bool   \n",
      " 2   original_title  45446 non-null  object \n",
      " 3   runtime         45446 non-null  float64\n",
      " 4   popularity      45446 non-null  float64\n",
      " 5   revenue         45446 non-null  float64\n",
      " 6   vote_average    45446 non-null  float64\n",
      "dtypes: bool(1), float64(4), int64(1), object(1)\n",
      "memory usage: 2.1+ MB\n"
     ]
    }
   ],
   "source": [
    "movies.info()"
   ]
  },
  {
   "cell_type": "code",
   "execution_count": 9,
   "id": "fb8d985e-009d-4e57-991b-c94619ef28d7",
   "metadata": {},
   "outputs": [],
   "source": [
    "movies.rename(columns={\"id\" : 'movie_id'}, inplace=True)"
   ]
  },
  {
   "cell_type": "markdown",
   "id": "22b6b199-783d-4295-aa8a-bb76cdf75a76",
   "metadata": {},
   "source": [
    "## Add Dim ID"
   ]
  },
  {
   "cell_type": "code",
   "execution_count": 10,
   "id": "bb0a9bc5-b575-4eeb-a3dd-dbfc6f691738",
   "metadata": {},
   "outputs": [
    {
     "data": {
      "text/plain": [
       "['.ipynb_checkpoints',\n",
       " 'Dim-Cast.csv',\n",
       " 'Dim-Crew.csv',\n",
       " 'Dim-Dates.csv',\n",
       " 'Dim-genres.csv',\n",
       " 'Dim-keywords.csv',\n",
       " 'Dim-Production-company.csv',\n",
       " 'Fact.csv']"
      ]
     },
     "execution_count": 10,
     "metadata": {},
     "output_type": "execute_result"
    }
   ],
   "source": [
    "os.listdir(\"./data/out/\")"
   ]
  },
  {
   "cell_type": "code",
   "execution_count": 11,
   "id": "445da753-3864-4f45-805b-9565f79d51d7",
   "metadata": {},
   "outputs": [
    {
     "data": {
      "text/plain": [
       "Index(['character', 'name', 'order', 'movie_id', 'DimCastID'], dtype='object')"
      ]
     },
     "execution_count": 11,
     "metadata": {},
     "output_type": "execute_result"
    }
   ],
   "source": [
    "cast = pd.read_csv('./data/out/Dim-Cast.csv')\n",
    "cast.columns"
   ]
  },
  {
   "cell_type": "code",
   "execution_count": 12,
   "id": "1e4bcc91-b97f-439a-ade2-6e8449288c3c",
   "metadata": {},
   "outputs": [],
   "source": [
    "movies = movies.merge(cast[['movie_id','DimCastID']] , how='left', on = 'movie_id').drop_duplicates()"
   ]
  },
  {
   "cell_type": "code",
   "execution_count": 13,
   "id": "f71ec92c-b094-40d3-958b-e3397a4eb711",
   "metadata": {},
   "outputs": [
    {
     "data": {
      "text/plain": [
       "Index(['name', 'department', 'job', 'movie_id', 'DimCrewID'], dtype='object')"
      ]
     },
     "execution_count": 13,
     "metadata": {},
     "output_type": "execute_result"
    }
   ],
   "source": [
    "crew = pd.read_csv('./data/out/Dim-Crew.csv')\n",
    "crew.columns"
   ]
  },
  {
   "cell_type": "code",
   "execution_count": 14,
   "id": "b18bdac8-2830-4ebe-8932-ea4a3299d18b",
   "metadata": {},
   "outputs": [],
   "source": [
    "movies = movies.merge(crew[['movie_id','DimCrewID']] , how='left', on = 'movie_id').drop_duplicates()"
   ]
  },
  {
   "cell_type": "code",
   "execution_count": 15,
   "id": "0870fa2f-b736-4828-9c83-701809563ea3",
   "metadata": {},
   "outputs": [
    {
     "data": {
      "text/plain": [
       "Index(['movie_id', 'release_date', 'year', 'quarter', 'month', 'day',\n",
       "       'DimDateID'],\n",
       "      dtype='object')"
      ]
     },
     "execution_count": 15,
     "metadata": {},
     "output_type": "execute_result"
    }
   ],
   "source": [
    "dates = pd.read_csv('./data/out/Dim-Dates.csv')\n",
    "dates.rename(columns={\"id\" : \"movie_id\"},inplace=True)\n",
    "dates.columns"
   ]
  },
  {
   "cell_type": "code",
   "execution_count": 16,
   "id": "cc57bc89-0a76-4db4-90bb-0d96f3e5fe86",
   "metadata": {},
   "outputs": [],
   "source": [
    "movies = movies.merge(dates[['movie_id','DimDateID']] , how='left', on = 'movie_id').drop_duplicates()"
   ]
  },
  {
   "cell_type": "code",
   "execution_count": 17,
   "id": "d852cfb6-6512-44d4-8a76-09dd2b99bdb4",
   "metadata": {},
   "outputs": [
    {
     "data": {
      "text/plain": [
       "Index(['name', 'movie_id', 'DimGenreID'], dtype='object')"
      ]
     },
     "execution_count": 17,
     "metadata": {},
     "output_type": "execute_result"
    }
   ],
   "source": [
    "genre = pd.read_csv('./data/out/Dim-genres.csv')\n",
    "genre.columns"
   ]
  },
  {
   "cell_type": "code",
   "execution_count": 18,
   "id": "96fc346a-3709-4492-bbce-0c440279ab36",
   "metadata": {},
   "outputs": [],
   "source": [
    "movies = movies.merge(genre[['movie_id','DimGenreID']] , how='left', on = 'movie_id').drop_duplicates()"
   ]
  },
  {
   "cell_type": "code",
   "execution_count": 19,
   "id": "6d27214d-4f57-47df-bb8c-8f5efc9d5e0b",
   "metadata": {},
   "outputs": [
    {
     "data": {
      "text/plain": [
       "Index(['name', 'movie_id', 'DimKeywordsID'], dtype='object')"
      ]
     },
     "execution_count": 19,
     "metadata": {},
     "output_type": "execute_result"
    }
   ],
   "source": [
    "keywords = pd.read_csv('./data/out/Dim-keywords.csv')\n",
    "keywords.columns"
   ]
  },
  {
   "cell_type": "code",
   "execution_count": 20,
   "id": "503bb8e0-e33c-49f7-8620-5fbdb81197ee",
   "metadata": {},
   "outputs": [],
   "source": [
    "movies = movies.merge(keywords[['movie_id','DimKeywordsID']] , how='left', on = 'movie_id').drop_duplicates()"
   ]
  },
  {
   "cell_type": "code",
   "execution_count": 21,
   "id": "a233b676-1738-476d-8eaf-3536915b6b4d",
   "metadata": {},
   "outputs": [
    {
     "data": {
      "text/plain": [
       "Index(['name', 'movie_id', 'DimProdCompID'], dtype='object')"
      ]
     },
     "execution_count": 21,
     "metadata": {},
     "output_type": "execute_result"
    }
   ],
   "source": [
    "pc = pd.read_csv('./data/out/Dim-Production-company.csv')\n",
    "pc.columns"
   ]
  },
  {
   "cell_type": "code",
   "execution_count": 22,
   "id": "6d0bec88-f90a-420c-bdeb-c91133380400",
   "metadata": {},
   "outputs": [],
   "source": [
    "movies = movies.merge(pc[['movie_id','DimProdCompID']] , how='left', on = 'movie_id').drop_duplicates()"
   ]
  },
  {
   "cell_type": "code",
   "execution_count": 23,
   "id": "ab81ba4d-5087-4029-9c08-6dc2585fc927",
   "metadata": {},
   "outputs": [
    {
     "name": "stdout",
     "output_type": "stream",
     "text": [
      "<class 'pandas.core.frame.DataFrame'>\n",
      "Int64Index: 45446 entries, 0 to 82372\n",
      "Data columns (total 13 columns):\n",
      " #   Column          Non-Null Count  Dtype  \n",
      "---  ------          --------------  -----  \n",
      " 0   movie_id        45446 non-null  int64  \n",
      " 1   adult           45446 non-null  bool   \n",
      " 2   original_title  45446 non-null  object \n",
      " 3   runtime         45446 non-null  float64\n",
      " 4   popularity      45446 non-null  float64\n",
      " 5   revenue         45446 non-null  float64\n",
      " 6   vote_average    45446 non-null  float64\n",
      " 7   DimCastID       43031 non-null  float64\n",
      " 8   DimCrewID       44674 non-null  float64\n",
      " 9   DimDateID       45446 non-null  int64  \n",
      " 10  DimGenreID      43004 non-null  float64\n",
      " 11  DimKeywordsID   31103 non-null  float64\n",
      " 12  DimProdCompID   33572 non-null  float64\n",
      "dtypes: bool(1), float64(9), int64(2), object(1)\n",
      "memory usage: 4.6+ MB\n"
     ]
    }
   ],
   "source": [
    "movies.info()"
   ]
  },
  {
   "cell_type": "code",
   "execution_count": 24,
   "id": "733d3721-c681-4b85-9914-2ce1aaba3ea9",
   "metadata": {},
   "outputs": [],
   "source": [
    "# Replace nan with -1 \n",
    "# the Dim tables Contain ID -1 With Not Provided Data "
   ]
  },
  {
   "cell_type": "code",
   "execution_count": 25,
   "id": "39e5f485-9016-45ed-a128-fa5829443d5d",
   "metadata": {},
   "outputs": [],
   "source": [
    "#movies.fillna(-1, inplace=True)"
   ]
  },
  {
   "cell_type": "code",
   "execution_count": 26,
   "id": "3db6b808-852d-489e-b803-c9f9fac1d3c4",
   "metadata": {},
   "outputs": [
    {
     "data": {
      "text/html": [
       "<div>\n",
       "<style scoped>\n",
       "    .dataframe tbody tr th:only-of-type {\n",
       "        vertical-align: middle;\n",
       "    }\n",
       "\n",
       "    .dataframe tbody tr th {\n",
       "        vertical-align: top;\n",
       "    }\n",
       "\n",
       "    .dataframe thead th {\n",
       "        text-align: right;\n",
       "    }\n",
       "</style>\n",
       "<table border=\"1\" class=\"dataframe\">\n",
       "  <thead>\n",
       "    <tr style=\"text-align: right;\">\n",
       "      <th></th>\n",
       "      <th>movie_id</th>\n",
       "      <th>adult</th>\n",
       "      <th>original_title</th>\n",
       "      <th>runtime</th>\n",
       "      <th>popularity</th>\n",
       "      <th>revenue</th>\n",
       "      <th>vote_average</th>\n",
       "      <th>DimCastID</th>\n",
       "      <th>DimCrewID</th>\n",
       "      <th>DimDateID</th>\n",
       "      <th>DimGenreID</th>\n",
       "      <th>DimKeywordsID</th>\n",
       "      <th>DimProdCompID</th>\n",
       "    </tr>\n",
       "  </thead>\n",
       "  <tbody>\n",
       "    <tr>\n",
       "      <th>0</th>\n",
       "      <td>862</td>\n",
       "      <td>False</td>\n",
       "      <td>Toy Story</td>\n",
       "      <td>81.0</td>\n",
       "      <td>21.946943</td>\n",
       "      <td>373554033.0</td>\n",
       "      <td>7.7</td>\n",
       "      <td>16223.0</td>\n",
       "      <td>263.0</td>\n",
       "      <td>1</td>\n",
       "      <td>6801.0</td>\n",
       "      <td>4872.0</td>\n",
       "      <td>22856.0</td>\n",
       "    </tr>\n",
       "    <tr>\n",
       "      <th>1</th>\n",
       "      <td>8844</td>\n",
       "      <td>False</td>\n",
       "      <td>Jumanji</td>\n",
       "      <td>104.0</td>\n",
       "      <td>17.015539</td>\n",
       "      <td>262797249.0</td>\n",
       "      <td>6.9</td>\n",
       "      <td>3674.0</td>\n",
       "      <td>7013.0</td>\n",
       "      <td>2</td>\n",
       "      <td>5172.0</td>\n",
       "      <td>9189.0</td>\n",
       "      <td>5435.0</td>\n",
       "    </tr>\n",
       "    <tr>\n",
       "      <th>4</th>\n",
       "      <td>15602</td>\n",
       "      <td>False</td>\n",
       "      <td>Grumpier Old Men</td>\n",
       "      <td>101.0</td>\n",
       "      <td>11.712900</td>\n",
       "      <td>0.0</td>\n",
       "      <td>6.5</td>\n",
       "      <td>29060.0</td>\n",
       "      <td>25692.0</td>\n",
       "      <td>3</td>\n",
       "      <td>19431.0</td>\n",
       "      <td>15085.0</td>\n",
       "      <td>15661.0</td>\n",
       "    </tr>\n",
       "    <tr>\n",
       "      <th>6</th>\n",
       "      <td>31357</td>\n",
       "      <td>False</td>\n",
       "      <td>Waiting to Exhale</td>\n",
       "      <td>127.0</td>\n",
       "      <td>3.859495</td>\n",
       "      <td>81452156.0</td>\n",
       "      <td>6.1</td>\n",
       "      <td>22681.0</td>\n",
       "      <td>14045.0</td>\n",
       "      <td>4</td>\n",
       "      <td>13942.0</td>\n",
       "      <td>10481.0</td>\n",
       "      <td>26432.0</td>\n",
       "    </tr>\n",
       "    <tr>\n",
       "      <th>7</th>\n",
       "      <td>11862</td>\n",
       "      <td>False</td>\n",
       "      <td>Father of the Bride Part II</td>\n",
       "      <td>106.0</td>\n",
       "      <td>8.387519</td>\n",
       "      <td>76578911.0</td>\n",
       "      <td>5.7</td>\n",
       "      <td>18414.0</td>\n",
       "      <td>20961.0</td>\n",
       "      <td>5</td>\n",
       "      <td>29138.0</td>\n",
       "      <td>5180.0</td>\n",
       "      <td>15659.0</td>\n",
       "    </tr>\n",
       "    <tr>\n",
       "      <th>...</th>\n",
       "      <td>...</td>\n",
       "      <td>...</td>\n",
       "      <td>...</td>\n",
       "      <td>...</td>\n",
       "      <td>...</td>\n",
       "      <td>...</td>\n",
       "      <td>...</td>\n",
       "      <td>...</td>\n",
       "      <td>...</td>\n",
       "      <td>...</td>\n",
       "      <td>...</td>\n",
       "      <td>...</td>\n",
       "      <td>...</td>\n",
       "    </tr>\n",
       "    <tr>\n",
       "      <th>82368</th>\n",
       "      <td>439050</td>\n",
       "      <td>False</td>\n",
       "      <td>رگ خواب</td>\n",
       "      <td>90.0</td>\n",
       "      <td>0.072051</td>\n",
       "      <td>0.0</td>\n",
       "      <td>4.0</td>\n",
       "      <td>40268.0</td>\n",
       "      <td>16972.0</td>\n",
       "      <td>45429</td>\n",
       "      <td>19430.0</td>\n",
       "      <td>25125.0</td>\n",
       "      <td>NaN</td>\n",
       "    </tr>\n",
       "    <tr>\n",
       "      <th>82369</th>\n",
       "      <td>111109</td>\n",
       "      <td>False</td>\n",
       "      <td>Siglo ng Pagluluwal</td>\n",
       "      <td>360.0</td>\n",
       "      <td>0.178241</td>\n",
       "      <td>0.0</td>\n",
       "      <td>9.0</td>\n",
       "      <td>19324.0</td>\n",
       "      <td>21491.0</td>\n",
       "      <td>45430</td>\n",
       "      <td>29180.0</td>\n",
       "      <td>17700.0</td>\n",
       "      <td>17981.0</td>\n",
       "    </tr>\n",
       "    <tr>\n",
       "      <th>82370</th>\n",
       "      <td>67758</td>\n",
       "      <td>False</td>\n",
       "      <td>Betrayal</td>\n",
       "      <td>90.0</td>\n",
       "      <td>0.903007</td>\n",
       "      <td>0.0</td>\n",
       "      <td>3.8</td>\n",
       "      <td>13072.0</td>\n",
       "      <td>25035.0</td>\n",
       "      <td>45431</td>\n",
       "      <td>10921.0</td>\n",
       "      <td>NaN</td>\n",
       "      <td>17980.0</td>\n",
       "    </tr>\n",
       "    <tr>\n",
       "      <th>82371</th>\n",
       "      <td>227506</td>\n",
       "      <td>False</td>\n",
       "      <td>Satana likuyushchiy</td>\n",
       "      <td>87.0</td>\n",
       "      <td>0.003503</td>\n",
       "      <td>0.0</td>\n",
       "      <td>0.0</td>\n",
       "      <td>36759.0</td>\n",
       "      <td>35285.0</td>\n",
       "      <td>45432</td>\n",
       "      <td>NaN</td>\n",
       "      <td>NaN</td>\n",
       "      <td>33562.0</td>\n",
       "    </tr>\n",
       "    <tr>\n",
       "      <th>82372</th>\n",
       "      <td>461257</td>\n",
       "      <td>False</td>\n",
       "      <td>Queerama</td>\n",
       "      <td>75.0</td>\n",
       "      <td>0.163015</td>\n",
       "      <td>0.0</td>\n",
       "      <td>0.0</td>\n",
       "      <td>NaN</td>\n",
       "      <td>44661.0</td>\n",
       "      <td>45433</td>\n",
       "      <td>NaN</td>\n",
       "      <td>NaN</td>\n",
       "      <td>NaN</td>\n",
       "    </tr>\n",
       "  </tbody>\n",
       "</table>\n",
       "<p>45446 rows × 13 columns</p>\n",
       "</div>"
      ],
      "text/plain": [
       "       movie_id  adult               original_title  runtime  popularity  \\\n",
       "0           862  False                    Toy Story     81.0   21.946943   \n",
       "1          8844  False                      Jumanji    104.0   17.015539   \n",
       "4         15602  False             Grumpier Old Men    101.0   11.712900   \n",
       "6         31357  False            Waiting to Exhale    127.0    3.859495   \n",
       "7         11862  False  Father of the Bride Part II    106.0    8.387519   \n",
       "...         ...    ...                          ...      ...         ...   \n",
       "82368    439050  False                      رگ خواب     90.0    0.072051   \n",
       "82369    111109  False          Siglo ng Pagluluwal    360.0    0.178241   \n",
       "82370     67758  False                     Betrayal     90.0    0.903007   \n",
       "82371    227506  False          Satana likuyushchiy     87.0    0.003503   \n",
       "82372    461257  False                     Queerama     75.0    0.163015   \n",
       "\n",
       "           revenue  vote_average  DimCastID  DimCrewID  DimDateID  DimGenreID  \\\n",
       "0      373554033.0           7.7    16223.0      263.0          1      6801.0   \n",
       "1      262797249.0           6.9     3674.0     7013.0          2      5172.0   \n",
       "4              0.0           6.5    29060.0    25692.0          3     19431.0   \n",
       "6       81452156.0           6.1    22681.0    14045.0          4     13942.0   \n",
       "7       76578911.0           5.7    18414.0    20961.0          5     29138.0   \n",
       "...            ...           ...        ...        ...        ...         ...   \n",
       "82368          0.0           4.0    40268.0    16972.0      45429     19430.0   \n",
       "82369          0.0           9.0    19324.0    21491.0      45430     29180.0   \n",
       "82370          0.0           3.8    13072.0    25035.0      45431     10921.0   \n",
       "82371          0.0           0.0    36759.0    35285.0      45432         NaN   \n",
       "82372          0.0           0.0        NaN    44661.0      45433         NaN   \n",
       "\n",
       "       DimKeywordsID  DimProdCompID  \n",
       "0             4872.0        22856.0  \n",
       "1             9189.0         5435.0  \n",
       "4            15085.0        15661.0  \n",
       "6            10481.0        26432.0  \n",
       "7             5180.0        15659.0  \n",
       "...              ...            ...  \n",
       "82368        25125.0            NaN  \n",
       "82369        17700.0        17981.0  \n",
       "82370            NaN        17980.0  \n",
       "82371            NaN        33562.0  \n",
       "82372            NaN            NaN  \n",
       "\n",
       "[45446 rows x 13 columns]"
      ]
     },
     "execution_count": 26,
     "metadata": {},
     "output_type": "execute_result"
    }
   ],
   "source": [
    "movies"
   ]
  },
  {
   "cell_type": "code",
   "execution_count": 28,
   "id": "d57e6e07-096e-4278-b6ea-4815d6288bda",
   "metadata": {},
   "outputs": [],
   "source": [
    "movies.to_csv('data/out/Fact.csv',index=False)"
   ]
  },
  {
   "cell_type": "code",
   "execution_count": null,
   "id": "e15144bf-8033-48ab-825f-b35fa06aef10",
   "metadata": {},
   "outputs": [],
   "source": []
  },
  {
   "cell_type": "code",
   "execution_count": null,
   "id": "9162aecb-e053-45bb-9039-19fd6e7241c3",
   "metadata": {},
   "outputs": [],
   "source": []
  }
 ],
 "metadata": {
  "kernelspec": {
   "display_name": "Python 3 (ipykernel)",
   "language": "python",
   "name": "python3"
  },
  "language_info": {
   "codemirror_mode": {
    "name": "ipython",
    "version": 3
   },
   "file_extension": ".py",
   "mimetype": "text/x-python",
   "name": "python",
   "nbconvert_exporter": "python",
   "pygments_lexer": "ipython3",
   "version": "3.9.12"
  }
 },
 "nbformat": 4,
 "nbformat_minor": 5
}
