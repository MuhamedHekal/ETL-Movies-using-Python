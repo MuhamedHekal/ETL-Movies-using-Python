{
 "cells": [
  {
   "cell_type": "code",
   "execution_count": 1,
   "id": "8bde8ec5-8ba1-4e75-a65c-0f658b80156b",
   "metadata": {},
   "outputs": [],
   "source": [
    "import os \n",
    "import pandas as pd\n",
    "from Functions import evaluate\n"
   ]
  },
  {
   "cell_type": "code",
   "execution_count": 2,
   "id": "198f1a92-5dd7-4ceb-ada0-eda385478695",
   "metadata": {},
   "outputs": [],
   "source": [
    "box_office = pd.read_csv('data/in/the-movies-dataset/BoxOffice.csv')"
   ]
  },
  {
   "cell_type": "code",
   "execution_count": 3,
   "id": "533b58bf-baff-4c3b-a5d5-1a8a5805687a",
   "metadata": {},
   "outputs": [
    {
     "data": {
      "text/html": [
       "<div>\n",
       "<style scoped>\n",
       "    .dataframe tbody tr th:only-of-type {\n",
       "        vertical-align: middle;\n",
       "    }\n",
       "\n",
       "    .dataframe tbody tr th {\n",
       "        vertical-align: top;\n",
       "    }\n",
       "\n",
       "    .dataframe thead th {\n",
       "        text-align: right;\n",
       "    }\n",
       "</style>\n",
       "<table border=\"1\" class=\"dataframe\">\n",
       "  <thead>\n",
       "    <tr style=\"text-align: right;\">\n",
       "      <th></th>\n",
       "      <th>name</th>\n",
       "      <th>year</th>\n",
       "      <th>Domestic Gross</th>\n",
       "      <th>Overseas Gross</th>\n",
       "      <th>Worldwide Gross</th>\n",
       "    </tr>\n",
       "  </thead>\n",
       "  <tbody>\n",
       "    <tr>\n",
       "      <th>0</th>\n",
       "      <td>Avatar</td>\n",
       "      <td>2009</td>\n",
       "      <td>780,956,847</td>\n",
       "      <td>2,125,000,000</td>\n",
       "      <td>2,905,956,847</td>\n",
       "    </tr>\n",
       "    <tr>\n",
       "      <th>1</th>\n",
       "      <td>The Mighty Macs</td>\n",
       "      <td>2009</td>\n",
       "      <td>1,864,952</td>\n",
       "      <td>0</td>\n",
       "      <td>1,864,952</td>\n",
       "    </tr>\n",
       "    <tr>\n",
       "      <th>2</th>\n",
       "      <td>Under the Silver Lake</td>\n",
       "      <td>2018</td>\n",
       "      <td>46,083</td>\n",
       "      <td>1,818,370</td>\n",
       "      <td>1,864,453</td>\n",
       "    </tr>\n",
       "    <tr>\n",
       "      <th>3</th>\n",
       "      <td>A Quiet Passion</td>\n",
       "      <td>2016</td>\n",
       "      <td>1,864,266</td>\n",
       "      <td>0</td>\n",
       "      <td>1,864,266</td>\n",
       "    </tr>\n",
       "    <tr>\n",
       "      <th>4</th>\n",
       "      <td>A Better Life</td>\n",
       "      <td>2011</td>\n",
       "      <td>1,759,252</td>\n",
       "      <td>104,167</td>\n",
       "      <td>1,863,419</td>\n",
       "    </tr>\n",
       "  </tbody>\n",
       "</table>\n",
       "</div>"
      ],
      "text/plain": [
       "                    name  year Domestic Gross Overseas Gross Worldwide Gross\n",
       "0                 Avatar  2009    780,956,847  2,125,000,000   2,905,956,847\n",
       "1        The Mighty Macs  2009      1,864,952              0       1,864,952\n",
       "2  Under the Silver Lake  2018         46,083      1,818,370       1,864,453\n",
       "3        A Quiet Passion  2016      1,864,266              0       1,864,266\n",
       "4          A Better Life  2011      1,759,252        104,167       1,863,419"
      ]
     },
     "execution_count": 3,
     "metadata": {},
     "output_type": "execute_result"
    }
   ],
   "source": [
    "box_office.head()"
   ]
  },
  {
   "cell_type": "code",
   "execution_count": 4,
   "id": "ed54b409-231a-4fc8-9263-bb4779586681",
   "metadata": {},
   "outputs": [
    {
     "name": "stdout",
     "output_type": "stream",
     "text": [
      "<class 'pandas.core.frame.DataFrame'>\n",
      "RangeIndex: 17691 entries, 0 to 17690\n",
      "Data columns (total 5 columns):\n",
      " #   Column           Non-Null Count  Dtype \n",
      "---  ------           --------------  ----- \n",
      " 0   name             17691 non-null  object\n",
      " 1   year             17691 non-null  object\n",
      " 2   Domestic Gross   17691 non-null  object\n",
      " 3   Overseas Gross   17691 non-null  object\n",
      " 4   Worldwide Gross  17691 non-null  object\n",
      "dtypes: object(5)\n",
      "memory usage: 691.2+ KB\n"
     ]
    }
   ],
   "source": [
    "box_office.info()"
   ]
  },
  {
   "cell_type": "code",
   "execution_count": 5,
   "id": "6178910c-8bb4-4ed4-a2ab-a54d487935c1",
   "metadata": {},
   "outputs": [],
   "source": [
    "# rename col from name to original_title\n",
    "box_office.rename(columns={'name' : 'original_title',\n",
    "                           \"Domestic Gross\":\"domestic_gross\",\n",
    "                           \"Overseas Gross\":'overseas_gross',\n",
    "                           \"Worldwide Gross\":'worldwide_gross'},inplace=True)\n"
   ]
  },
  {
   "cell_type": "code",
   "execution_count": 6,
   "id": "d4219dd3-e594-4448-a1d0-9e00a0f93bf8",
   "metadata": {},
   "outputs": [],
   "source": [
    "# convert year to date time \n",
    "box_office['year'] = box_office.year.apply(lambda x : x.split(\"/\")[0].split(\"(\")[0])\n",
    "box_office['year'] = box_office.year.astype(int)"
   ]
  },
  {
   "cell_type": "code",
   "execution_count": 7,
   "id": "59a9a26b-3b18-4bd2-a947-de5dbe389323",
   "metadata": {},
   "outputs": [],
   "source": [
    "box_office['domestic_gross'] = box_office['domestic_gross'].apply(lambda x : int(x.replace(',','')))\n",
    "box_office['overseas_gross'] = box_office['overseas_gross'].apply(lambda x : int(x.replace(',','')))\n",
    "box_office['worldwide_gross'] = box_office['worldwide_gross'].apply(lambda x : int(x.replace(',','')))"
   ]
  },
  {
   "cell_type": "code",
   "execution_count": 8,
   "id": "7103f369-0dc3-4e1d-a322-6f6b164efef2",
   "metadata": {},
   "outputs": [
    {
     "name": "stdout",
     "output_type": "stream",
     "text": [
      "<class 'pandas.core.frame.DataFrame'>\n",
      "RangeIndex: 17691 entries, 0 to 17690\n",
      "Data columns (total 5 columns):\n",
      " #   Column           Non-Null Count  Dtype \n",
      "---  ------           --------------  ----- \n",
      " 0   original_title   17691 non-null  object\n",
      " 1   year             17691 non-null  int32 \n",
      " 2   domestic_gross   17691 non-null  int64 \n",
      " 3   overseas_gross   17691 non-null  int64 \n",
      " 4   worldwide_gross  17691 non-null  int64 \n",
      "dtypes: int32(1), int64(3), object(1)\n",
      "memory usage: 622.1+ KB\n"
     ]
    }
   ],
   "source": [
    "box_office.info()"
   ]
  },
  {
   "cell_type": "code",
   "execution_count": 9,
   "id": "2a61eded-3a51-4e2e-83d6-da019319964b",
   "metadata": {},
   "outputs": [
    {
     "data": {
      "text/plain": [
       "1773"
      ]
     },
     "execution_count": 9,
     "metadata": {},
     "output_type": "execute_result"
    }
   ],
   "source": [
    "box_office.duplicated().sum()"
   ]
  },
  {
   "cell_type": "code",
   "execution_count": 10,
   "id": "1e7401b5-3f05-44df-972e-941451007c0d",
   "metadata": {},
   "outputs": [],
   "source": [
    "box_office = box_office.drop_duplicates()"
   ]
  },
  {
   "cell_type": "code",
   "execution_count": 12,
   "id": "b9980cbd-fa88-450a-b19b-613f8556e150",
   "metadata": {},
   "outputs": [
    {
     "name": "stdout",
     "output_type": "stream",
     "text": [
      "File Exist\n"
     ]
    }
   ],
   "source": [
    "evaluate.create_dir(\"data/out/\")\n",
    "box_office.to_csv(\"data/evaluate/raw/box_office_data.csv\",index=False)"
   ]
  },
  {
   "cell_type": "code",
   "execution_count": null,
   "id": "c76cee44-f1a3-4847-9b1f-aecffcd18d76",
   "metadata": {},
   "outputs": [],
   "source": []
  }
 ],
 "metadata": {
  "kernelspec": {
   "display_name": "Python 3 (ipykernel)",
   "language": "python",
   "name": "python3"
  },
  "language_info": {
   "codemirror_mode": {
    "name": "ipython",
    "version": 3
   },
   "file_extension": ".py",
   "mimetype": "text/x-python",
   "name": "python",
   "nbconvert_exporter": "python",
   "pygments_lexer": "ipython3",
   "version": "3.9.12"
  }
 },
 "nbformat": 4,
 "nbformat_minor": 5
}
