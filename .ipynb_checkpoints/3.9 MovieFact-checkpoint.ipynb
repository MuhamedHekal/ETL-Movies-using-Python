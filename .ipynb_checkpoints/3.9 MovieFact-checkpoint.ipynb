{
 "cells": [
  {
   "cell_type": "code",
   "execution_count": 1,
   "id": "2043e399-74a6-409b-994c-358f8b267f5d",
   "metadata": {},
   "outputs": [],
   "source": [
    "import pandas as pd \n",
    "import os\n",
    "from Functions import evaluate"
   ]
  },
  {
   "cell_type": "code",
   "execution_count": 2,
   "id": "8dd3893f-0eda-4b28-ae7c-02cabe702e8f",
   "metadata": {},
   "outputs": [
    {
     "data": {
      "text/plain": [
       "['.ipynb_checkpoints',\n",
       " 'box_office_data.csv',\n",
       " 'cast.csv',\n",
       " 'clean_movies.csv',\n",
       " 'crew.csv',\n",
       " 'genres.csv',\n",
       " 'keywords.csv',\n",
       " 'prod_company.csv',\n",
       " 'userrating.csv']"
      ]
     },
     "execution_count": 2,
     "metadata": {},
     "output_type": "execute_result"
    }
   ],
   "source": [
    "os.listdir(\"./data/evaluate/raw/\")"
   ]
  },
  {
   "cell_type": "code",
   "execution_count": 3,
   "id": "dda41775-c21d-4de8-b8eb-9e5e17d2edb4",
   "metadata": {},
   "outputs": [],
   "source": [
    "movies = pd.read_csv('./data/evaluate/raw/clean_movies.csv')"
   ]
  },
  {
   "cell_type": "code",
   "execution_count": 4,
   "id": "4794b134-693a-45b5-907d-7e9343bcd668",
   "metadata": {},
   "outputs": [
    {
     "data": {
      "text/html": [
       "<div>\n",
       "<style scoped>\n",
       "    .dataframe tbody tr th:only-of-type {\n",
       "        vertical-align: middle;\n",
       "    }\n",
       "\n",
       "    .dataframe tbody tr th {\n",
       "        vertical-align: top;\n",
       "    }\n",
       "\n",
       "    .dataframe thead th {\n",
       "        text-align: right;\n",
       "    }\n",
       "</style>\n",
       "<table border=\"1\" class=\"dataframe\">\n",
       "  <thead>\n",
       "    <tr style=\"text-align: right;\">\n",
       "      <th></th>\n",
       "      <th>id</th>\n",
       "      <th>adult</th>\n",
       "      <th>original_title</th>\n",
       "      <th>runtime</th>\n",
       "      <th>genres</th>\n",
       "      <th>popularity</th>\n",
       "      <th>production_companies</th>\n",
       "      <th>release_date</th>\n",
       "      <th>revenue</th>\n",
       "      <th>vote_average</th>\n",
       "    </tr>\n",
       "  </thead>\n",
       "  <tbody>\n",
       "    <tr>\n",
       "      <th>0</th>\n",
       "      <td>862</td>\n",
       "      <td>False</td>\n",
       "      <td>Toy Story</td>\n",
       "      <td>81.0</td>\n",
       "      <td>[{'id': 16, 'name': 'Animation'}, {'id': 35, '...</td>\n",
       "      <td>21.946943</td>\n",
       "      <td>[{'name': 'Pixar Animation Studios', 'id': 3}]</td>\n",
       "      <td>1995-10-30 00:00:00.000000000</td>\n",
       "      <td>373554033.0</td>\n",
       "      <td>7.7</td>\n",
       "    </tr>\n",
       "    <tr>\n",
       "      <th>1</th>\n",
       "      <td>8844</td>\n",
       "      <td>False</td>\n",
       "      <td>Jumanji</td>\n",
       "      <td>104.0</td>\n",
       "      <td>[{'id': 12, 'name': 'Adventure'}, {'id': 14, '...</td>\n",
       "      <td>17.015539</td>\n",
       "      <td>[{'name': 'TriStar Pictures', 'id': 559}, {'na...</td>\n",
       "      <td>1995-12-15 00:00:00.000000000</td>\n",
       "      <td>262797249.0</td>\n",
       "      <td>6.9</td>\n",
       "    </tr>\n",
       "  </tbody>\n",
       "</table>\n",
       "</div>"
      ],
      "text/plain": [
       "     id  adult original_title  runtime  \\\n",
       "0   862  False      Toy Story     81.0   \n",
       "1  8844  False        Jumanji    104.0   \n",
       "\n",
       "                                              genres  popularity  \\\n",
       "0  [{'id': 16, 'name': 'Animation'}, {'id': 35, '...   21.946943   \n",
       "1  [{'id': 12, 'name': 'Adventure'}, {'id': 14, '...   17.015539   \n",
       "\n",
       "                                production_companies  \\\n",
       "0     [{'name': 'Pixar Animation Studios', 'id': 3}]   \n",
       "1  [{'name': 'TriStar Pictures', 'id': 559}, {'na...   \n",
       "\n",
       "                    release_date      revenue  vote_average  \n",
       "0  1995-10-30 00:00:00.000000000  373554033.0           7.7  \n",
       "1  1995-12-15 00:00:00.000000000  262797249.0           6.9  "
      ]
     },
     "execution_count": 4,
     "metadata": {},
     "output_type": "execute_result"
    }
   ],
   "source": [
    "movies.head(2)"
   ]
  },
  {
   "cell_type": "code",
   "execution_count": 5,
   "id": "52701ae2-d089-410f-9dbf-c0d0b542157a",
   "metadata": {},
   "outputs": [
    {
     "data": {
      "text/plain": [
       "Index(['id', 'adult', 'original_title', 'runtime', 'genres', 'popularity',\n",
       "       'production_companies', 'release_date', 'revenue', 'vote_average'],\n",
       "      dtype='object')"
      ]
     },
     "execution_count": 5,
     "metadata": {},
     "output_type": "execute_result"
    }
   ],
   "source": [
    "movies.columns"
   ]
  },
  {
   "cell_type": "code",
   "execution_count": 6,
   "id": "580fab31-8613-4704-8550-69d1afe866da",
   "metadata": {},
   "outputs": [],
   "source": [
    "cols_needed = ['id', 'adult', 'original_title', 'runtime',\n",
    "               'popularity','revenue', 'vote_average','release_date']\n",
    "movies = movies[cols_needed]"
   ]
  },
  {
   "cell_type": "code",
   "execution_count": 7,
   "id": "4c7b6596-3e16-4ebb-965f-f5ff54fcff9c",
   "metadata": {},
   "outputs": [
    {
     "data": {
      "text/html": [
       "<div>\n",
       "<style scoped>\n",
       "    .dataframe tbody tr th:only-of-type {\n",
       "        vertical-align: middle;\n",
       "    }\n",
       "\n",
       "    .dataframe tbody tr th {\n",
       "        vertical-align: top;\n",
       "    }\n",
       "\n",
       "    .dataframe thead th {\n",
       "        text-align: right;\n",
       "    }\n",
       "</style>\n",
       "<table border=\"1\" class=\"dataframe\">\n",
       "  <thead>\n",
       "    <tr style=\"text-align: right;\">\n",
       "      <th></th>\n",
       "      <th>id</th>\n",
       "      <th>adult</th>\n",
       "      <th>original_title</th>\n",
       "      <th>runtime</th>\n",
       "      <th>popularity</th>\n",
       "      <th>revenue</th>\n",
       "      <th>vote_average</th>\n",
       "      <th>release_date</th>\n",
       "    </tr>\n",
       "  </thead>\n",
       "  <tbody>\n",
       "    <tr>\n",
       "      <th>0</th>\n",
       "      <td>862</td>\n",
       "      <td>False</td>\n",
       "      <td>Toy Story</td>\n",
       "      <td>81.0</td>\n",
       "      <td>21.946943</td>\n",
       "      <td>373554033.0</td>\n",
       "      <td>7.7</td>\n",
       "      <td>1995-10-30 00:00:00.000000000</td>\n",
       "    </tr>\n",
       "    <tr>\n",
       "      <th>1</th>\n",
       "      <td>8844</td>\n",
       "      <td>False</td>\n",
       "      <td>Jumanji</td>\n",
       "      <td>104.0</td>\n",
       "      <td>17.015539</td>\n",
       "      <td>262797249.0</td>\n",
       "      <td>6.9</td>\n",
       "      <td>1995-12-15 00:00:00.000000000</td>\n",
       "    </tr>\n",
       "  </tbody>\n",
       "</table>\n",
       "</div>"
      ],
      "text/plain": [
       "     id  adult original_title  runtime  popularity      revenue  vote_average  \\\n",
       "0   862  False      Toy Story     81.0   21.946943  373554033.0           7.7   \n",
       "1  8844  False        Jumanji    104.0   17.015539  262797249.0           6.9   \n",
       "\n",
       "                    release_date  \n",
       "0  1995-10-30 00:00:00.000000000  \n",
       "1  1995-12-15 00:00:00.000000000  "
      ]
     },
     "execution_count": 7,
     "metadata": {},
     "output_type": "execute_result"
    }
   ],
   "source": [
    "movies.head(2)"
   ]
  },
  {
   "cell_type": "code",
   "execution_count": 8,
   "id": "d48ffc7b-0718-48eb-afcf-22495e903e8e",
   "metadata": {},
   "outputs": [
    {
     "name": "stdout",
     "output_type": "stream",
     "text": [
      "<class 'pandas.core.frame.DataFrame'>\n",
      "RangeIndex: 45446 entries, 0 to 45445\n",
      "Data columns (total 8 columns):\n",
      " #   Column          Non-Null Count  Dtype  \n",
      "---  ------          --------------  -----  \n",
      " 0   id              45446 non-null  int64  \n",
      " 1   adult           45446 non-null  bool   \n",
      " 2   original_title  45446 non-null  object \n",
      " 3   runtime         45446 non-null  float64\n",
      " 4   popularity      45446 non-null  float64\n",
      " 5   revenue         45446 non-null  float64\n",
      " 6   vote_average    45446 non-null  float64\n",
      " 7   release_date    45446 non-null  object \n",
      "dtypes: bool(1), float64(4), int64(1), object(2)\n",
      "memory usage: 2.5+ MB\n"
     ]
    }
   ],
   "source": [
    "movies.info()"
   ]
  },
  {
   "cell_type": "code",
   "execution_count": 9,
   "id": "fb8d985e-009d-4e57-991b-c94619ef28d7",
   "metadata": {},
   "outputs": [],
   "source": [
    "movies.rename(columns={\"id\" : 'movie_id'}, inplace=True)"
   ]
  },
  {
   "cell_type": "code",
   "execution_count": 10,
   "id": "296e0eb2-d29d-450c-90f4-b171c31a249f",
   "metadata": {},
   "outputs": [],
   "source": [
    "movies['release_date'] = pd.to_datetime(movies.release_date)"
   ]
  },
  {
   "cell_type": "markdown",
   "id": "22b6b199-783d-4295-aa8a-bb76cdf75a76",
   "metadata": {},
   "source": [
    "## Add Dim ID"
   ]
  },
  {
   "cell_type": "code",
   "execution_count": 11,
   "id": "bb0a9bc5-b575-4eeb-a3dd-dbfc6f691738",
   "metadata": {},
   "outputs": [
    {
     "data": {
      "text/plain": [
       "['.ipynb_checkpoints',\n",
       " 'Dim_Cast.csv',\n",
       " 'Dim_Crew.csv',\n",
       " 'Dim_Date.csv',\n",
       " 'Dim_Genres.csv',\n",
       " 'Dim_Keywords.csv',\n",
       " 'Dim_Production_Company.csv',\n",
       " 'Movies_Fact.csv']"
      ]
     },
     "execution_count": 11,
     "metadata": {},
     "output_type": "execute_result"
    }
   ],
   "source": [
    "os.listdir(\"./data/out/\")"
   ]
  },
  {
   "cell_type": "code",
   "execution_count": 12,
   "id": "445da753-3864-4f45-805b-9565f79d51d7",
   "metadata": {},
   "outputs": [
    {
     "data": {
      "text/plain": [
       "Index(['DimCastID', 'CastID', 'name', 'character', 'order', 'movie_id'], dtype='object')"
      ]
     },
     "execution_count": 12,
     "metadata": {},
     "output_type": "execute_result"
    }
   ],
   "source": [
    "cast = pd.read_csv('./data/out/Dim_Cast.csv')\n",
    "cast.columns"
   ]
  },
  {
   "cell_type": "code",
   "execution_count": 13,
   "id": "1e4bcc91-b97f-439a-ade2-6e8449288c3c",
   "metadata": {},
   "outputs": [],
   "source": [
    "movies = movies.merge(cast[['movie_id','CastID']] , how='left', on = 'movie_id').drop_duplicates()"
   ]
  },
  {
   "cell_type": "code",
   "execution_count": 14,
   "id": "f71ec92c-b094-40d3-958b-e3397a4eb711",
   "metadata": {},
   "outputs": [
    {
     "data": {
      "text/plain": [
       "Index(['DimCrewID', 'CrewID', 'name', 'department', 'job', 'movie_id'], dtype='object')"
      ]
     },
     "execution_count": 14,
     "metadata": {},
     "output_type": "execute_result"
    }
   ],
   "source": [
    "crew = pd.read_csv('./data/out/Dim_Crew.csv')\n",
    "crew.columns"
   ]
  },
  {
   "cell_type": "code",
   "execution_count": 15,
   "id": "b18bdac8-2830-4ebe-8932-ea4a3299d18b",
   "metadata": {},
   "outputs": [],
   "source": [
    "movies = movies.merge(crew[['movie_id','CrewID']] , how='left', on = 'movie_id').drop_duplicates()"
   ]
  },
  {
   "cell_type": "code",
   "execution_count": 17,
   "id": "0870fa2f-b736-4828-9c83-701809563ea3",
   "metadata": {},
   "outputs": [
    {
     "data": {
      "text/plain": [
       "Index(['DimDateID', 'release_date', 'year', 'quarter', 'month', 'day',\n",
       "       'movie_id'],\n",
       "      dtype='object')"
      ]
     },
     "execution_count": 17,
     "metadata": {},
     "output_type": "execute_result"
    }
   ],
   "source": [
    "dates = pd.read_csv('./data/out/Dim_Date.csv')\n",
    "dates.columns"
   ]
  },
  {
   "cell_type": "code",
   "execution_count": 18,
   "id": "cc57bc89-0a76-4db4-90bb-0d96f3e5fe86",
   "metadata": {},
   "outputs": [],
   "source": [
    "movies = movies.merge(dates[['movie_id','DimDateID']] , how='left', on = 'movie_id').drop_duplicates()"
   ]
  },
  {
   "cell_type": "code",
   "execution_count": 19,
   "id": "d852cfb6-6512-44d4-8a76-09dd2b99bdb4",
   "metadata": {},
   "outputs": [
    {
     "data": {
      "text/plain": [
       "Index(['DimGenreID', 'GenreID', 'name', 'movie_id'], dtype='object')"
      ]
     },
     "execution_count": 19,
     "metadata": {},
     "output_type": "execute_result"
    }
   ],
   "source": [
    "genre = pd.read_csv('./data/out/Dim_Genres.csv')\n",
    "genre.columns"
   ]
  },
  {
   "cell_type": "code",
   "execution_count": 20,
   "id": "96fc346a-3709-4492-bbce-0c440279ab36",
   "metadata": {},
   "outputs": [],
   "source": [
    "movies = movies.merge(genre[['movie_id','GenreID']] , how='left', on = 'movie_id').drop_duplicates()"
   ]
  },
  {
   "cell_type": "code",
   "execution_count": 21,
   "id": "6d27214d-4f57-47df-bb8c-8f5efc9d5e0b",
   "metadata": {},
   "outputs": [
    {
     "data": {
      "text/plain": [
       "Index(['DimKeywordsID', 'KeywordsID', 'name', 'movie_id'], dtype='object')"
      ]
     },
     "execution_count": 21,
     "metadata": {},
     "output_type": "execute_result"
    }
   ],
   "source": [
    "keywords = pd.read_csv('./data/out/Dim_Keywords.csv')\n",
    "keywords.columns"
   ]
  },
  {
   "cell_type": "code",
   "execution_count": 22,
   "id": "503bb8e0-e33c-49f7-8620-5fbdb81197ee",
   "metadata": {
    "tags": []
   },
   "outputs": [],
   "source": [
    "movies = movies.merge(keywords[['movie_id','KeywordsID']] , how='left', on = 'movie_id').drop_duplicates()"
   ]
  },
  {
   "cell_type": "code",
   "execution_count": 23,
   "id": "a233b676-1738-476d-8eaf-3536915b6b4d",
   "metadata": {},
   "outputs": [
    {
     "data": {
      "text/plain": [
       "Index(['DimProdCompID', 'ProdCompID', 'name', 'movie_id'], dtype='object')"
      ]
     },
     "execution_count": 23,
     "metadata": {},
     "output_type": "execute_result"
    }
   ],
   "source": [
    "pc = pd.read_csv('./data/out/Dim_Production_Company.csv')\n",
    "pc.columns"
   ]
  },
  {
   "cell_type": "code",
   "execution_count": 24,
   "id": "6d0bec88-f90a-420c-bdeb-c91133380400",
   "metadata": {},
   "outputs": [],
   "source": [
    "movies = movies.merge(pc[['movie_id','ProdCompID']] , how='left', on = 'movie_id').drop_duplicates()"
   ]
  },
  {
   "cell_type": "code",
   "execution_count": 25,
   "id": "ab81ba4d-5087-4029-9c08-6dc2585fc927",
   "metadata": {},
   "outputs": [
    {
     "name": "stdout",
     "output_type": "stream",
     "text": [
      "<class 'pandas.core.frame.DataFrame'>\n",
      "Int64Index: 45446 entries, 0 to 82372\n",
      "Data columns (total 14 columns):\n",
      " #   Column          Non-Null Count  Dtype         \n",
      "---  ------          --------------  -----         \n",
      " 0   movie_id        45446 non-null  int64         \n",
      " 1   adult           45446 non-null  bool          \n",
      " 2   original_title  45446 non-null  object        \n",
      " 3   runtime         45446 non-null  float64       \n",
      " 4   popularity      45446 non-null  float64       \n",
      " 5   revenue         45446 non-null  float64       \n",
      " 6   vote_average    45446 non-null  float64       \n",
      " 7   release_date    45446 non-null  datetime64[ns]\n",
      " 8   CastID          43031 non-null  float64       \n",
      " 9   CrewID          44674 non-null  float64       \n",
      " 10  DimDateID       45446 non-null  int64         \n",
      " 11  GenreID         43004 non-null  float64       \n",
      " 12  KeywordsID      31103 non-null  float64       \n",
      " 13  ProdCompID      33572 non-null  float64       \n",
      "dtypes: bool(1), datetime64[ns](1), float64(9), int64(2), object(1)\n",
      "memory usage: 4.9+ MB\n"
     ]
    }
   ],
   "source": [
    "movies.info()"
   ]
  },
  {
   "cell_type": "code",
   "execution_count": 26,
   "id": "733d3721-c681-4b85-9914-2ce1aaba3ea9",
   "metadata": {},
   "outputs": [],
   "source": [
    "# Replace nan with -1 \n",
    "# the Dim tables Contain ID -1 With Not Provided Data "
   ]
  },
  {
   "cell_type": "code",
   "execution_count": 27,
   "id": "39e5f485-9016-45ed-a128-fa5829443d5d",
   "metadata": {},
   "outputs": [],
   "source": [
    "movies.fillna(-1, inplace=True)"
   ]
  },
  {
   "cell_type": "markdown",
   "id": "aef93f44-e6fd-4b60-abd7-df826a3b821a",
   "metadata": {},
   "source": [
    "### Add Box Office"
   ]
  },
  {
   "cell_type": "code",
   "execution_count": 28,
   "id": "9f003756-8bbe-43fa-8cff-3ab84c0b8d16",
   "metadata": {},
   "outputs": [],
   "source": [
    "box_office = pd.read_csv('data/evaluate/raw/box_office_data.csv')"
   ]
  },
  {
   "cell_type": "code",
   "execution_count": 29,
   "id": "69a1685d-b998-4c60-8919-13b2ea6ebc44",
   "metadata": {},
   "outputs": [
    {
     "name": "stdout",
     "output_type": "stream",
     "text": [
      "<class 'pandas.core.frame.DataFrame'>\n",
      "RangeIndex: 15918 entries, 0 to 15917\n",
      "Data columns (total 5 columns):\n",
      " #   Column           Non-Null Count  Dtype \n",
      "---  ------           --------------  ----- \n",
      " 0   original_title   15918 non-null  object\n",
      " 1   year             15918 non-null  int64 \n",
      " 2   domestic_gross   15918 non-null  int64 \n",
      " 3   overseas_gross   15918 non-null  int64 \n",
      " 4   worldwide_gross  15918 non-null  int64 \n",
      "dtypes: int64(4), object(1)\n",
      "memory usage: 621.9+ KB\n"
     ]
    }
   ],
   "source": [
    "box_office.info()"
   ]
  },
  {
   "cell_type": "markdown",
   "id": "985b5106-8181-4793-9da7-c24b796557d3",
   "metadata": {},
   "source": [
    "I merge to movies data and box office on left outer join and on keys {original_title,year}\n",
    "first i need to extract year from release_date in movies data "
   ]
  },
  {
   "cell_type": "code",
   "execution_count": 30,
   "id": "33ea4195-a477-48c3-865f-a0eb01fb3f93",
   "metadata": {},
   "outputs": [],
   "source": [
    "movies['year'] = pd.to_datetime(movies.release_date).dt.year"
   ]
  },
  {
   "cell_type": "code",
   "execution_count": 31,
   "id": "1a30d815-b8cd-45bf-80c0-3a53d952bd09",
   "metadata": {},
   "outputs": [],
   "source": [
    "movies = movies.merge(box_office,how='left',on=['original_title','year'])"
   ]
  },
  {
   "cell_type": "code",
   "execution_count": 32,
   "id": "acd5475a-d0b0-459d-a670-cb2850353da4",
   "metadata": {},
   "outputs": [],
   "source": [
    "movies.fillna(0,inplace=True)"
   ]
  },
  {
   "cell_type": "code",
   "execution_count": 33,
   "id": "3379fbb4-a98c-4485-881d-a0705461e6d4",
   "metadata": {},
   "outputs": [
    {
     "data": {
      "text/plain": [
       "5044"
      ]
     },
     "execution_count": 33,
     "metadata": {},
     "output_type": "execute_result"
    }
   ],
   "source": [
    "movies.query('revenue == 0 & worldwide_gross!=0').shape[0]"
   ]
  },
  {
   "cell_type": "code",
   "execution_count": 34,
   "id": "eda7ecd6-d984-4ba9-9905-cb9d7dc87975",
   "metadata": {},
   "outputs": [
    {
     "data": {
      "text/html": [
       "<div>\n",
       "<style scoped>\n",
       "    .dataframe tbody tr th:only-of-type {\n",
       "        vertical-align: middle;\n",
       "    }\n",
       "\n",
       "    .dataframe tbody tr th {\n",
       "        vertical-align: top;\n",
       "    }\n",
       "\n",
       "    .dataframe thead th {\n",
       "        text-align: right;\n",
       "    }\n",
       "</style>\n",
       "<table border=\"1\" class=\"dataframe\">\n",
       "  <thead>\n",
       "    <tr style=\"text-align: right;\">\n",
       "      <th></th>\n",
       "      <th>movie_id</th>\n",
       "      <th>adult</th>\n",
       "      <th>original_title</th>\n",
       "      <th>runtime</th>\n",
       "      <th>popularity</th>\n",
       "      <th>revenue</th>\n",
       "      <th>vote_average</th>\n",
       "      <th>release_date</th>\n",
       "      <th>CastID</th>\n",
       "      <th>CrewID</th>\n",
       "      <th>DimDateID</th>\n",
       "      <th>GenreID</th>\n",
       "      <th>KeywordsID</th>\n",
       "      <th>ProdCompID</th>\n",
       "      <th>year</th>\n",
       "      <th>domestic_gross</th>\n",
       "      <th>overseas_gross</th>\n",
       "      <th>worldwide_gross</th>\n",
       "    </tr>\n",
       "  </thead>\n",
       "  <tbody>\n",
       "    <tr>\n",
       "      <th>0</th>\n",
       "      <td>862</td>\n",
       "      <td>False</td>\n",
       "      <td>Toy Story</td>\n",
       "      <td>81.0</td>\n",
       "      <td>21.946943</td>\n",
       "      <td>373554033.0</td>\n",
       "      <td>7.7</td>\n",
       "      <td>1995-10-30</td>\n",
       "      <td>16223.0</td>\n",
       "      <td>263.0</td>\n",
       "      <td>1</td>\n",
       "      <td>6801.0</td>\n",
       "      <td>4872.0</td>\n",
       "      <td>22856.0</td>\n",
       "      <td>1995</td>\n",
       "      <td>192364233.0</td>\n",
       "      <td>181757800.0</td>\n",
       "      <td>374122033.0</td>\n",
       "    </tr>\n",
       "    <tr>\n",
       "      <th>1</th>\n",
       "      <td>8844</td>\n",
       "      <td>False</td>\n",
       "      <td>Jumanji</td>\n",
       "      <td>104.0</td>\n",
       "      <td>17.015539</td>\n",
       "      <td>262797249.0</td>\n",
       "      <td>6.9</td>\n",
       "      <td>1995-12-15</td>\n",
       "      <td>3674.0</td>\n",
       "      <td>7013.0</td>\n",
       "      <td>2</td>\n",
       "      <td>5172.0</td>\n",
       "      <td>9189.0</td>\n",
       "      <td>5435.0</td>\n",
       "      <td>1995</td>\n",
       "      <td>100475249.0</td>\n",
       "      <td>162322000.0</td>\n",
       "      <td>262797249.0</td>\n",
       "    </tr>\n",
       "    <tr>\n",
       "      <th>2</th>\n",
       "      <td>15602</td>\n",
       "      <td>False</td>\n",
       "      <td>Grumpier Old Men</td>\n",
       "      <td>101.0</td>\n",
       "      <td>11.712900</td>\n",
       "      <td>0.0</td>\n",
       "      <td>6.5</td>\n",
       "      <td>1995-12-22</td>\n",
       "      <td>29060.0</td>\n",
       "      <td>25692.0</td>\n",
       "      <td>3</td>\n",
       "      <td>19431.0</td>\n",
       "      <td>15085.0</td>\n",
       "      <td>15661.0</td>\n",
       "      <td>1995</td>\n",
       "      <td>69870000.0</td>\n",
       "      <td>0.0</td>\n",
       "      <td>69870000.0</td>\n",
       "    </tr>\n",
       "    <tr>\n",
       "      <th>3</th>\n",
       "      <td>31357</td>\n",
       "      <td>False</td>\n",
       "      <td>Waiting to Exhale</td>\n",
       "      <td>127.0</td>\n",
       "      <td>3.859495</td>\n",
       "      <td>81452156.0</td>\n",
       "      <td>6.1</td>\n",
       "      <td>1995-12-22</td>\n",
       "      <td>22681.0</td>\n",
       "      <td>14045.0</td>\n",
       "      <td>4</td>\n",
       "      <td>13942.0</td>\n",
       "      <td>10481.0</td>\n",
       "      <td>26432.0</td>\n",
       "      <td>1995</td>\n",
       "      <td>67052156.0</td>\n",
       "      <td>14400000.0</td>\n",
       "      <td>81452156.0</td>\n",
       "    </tr>\n",
       "    <tr>\n",
       "      <th>4</th>\n",
       "      <td>11862</td>\n",
       "      <td>False</td>\n",
       "      <td>Father of the Bride Part II</td>\n",
       "      <td>106.0</td>\n",
       "      <td>8.387519</td>\n",
       "      <td>76578911.0</td>\n",
       "      <td>5.7</td>\n",
       "      <td>1995-02-10</td>\n",
       "      <td>18414.0</td>\n",
       "      <td>20961.0</td>\n",
       "      <td>5</td>\n",
       "      <td>29138.0</td>\n",
       "      <td>5180.0</td>\n",
       "      <td>15659.0</td>\n",
       "      <td>1995</td>\n",
       "      <td>76594000.0</td>\n",
       "      <td>0.0</td>\n",
       "      <td>76594000.0</td>\n",
       "    </tr>\n",
       "    <tr>\n",
       "      <th>5</th>\n",
       "      <td>949</td>\n",
       "      <td>False</td>\n",
       "      <td>Heat</td>\n",
       "      <td>170.0</td>\n",
       "      <td>17.924927</td>\n",
       "      <td>187436818.0</td>\n",
       "      <td>7.7</td>\n",
       "      <td>1995-12-15</td>\n",
       "      <td>375.0</td>\n",
       "      <td>659.0</td>\n",
       "      <td>6</td>\n",
       "      <td>3634.0</td>\n",
       "      <td>153.0</td>\n",
       "      <td>7149.0</td>\n",
       "      <td>1995</td>\n",
       "      <td>67436818.0</td>\n",
       "      <td>120000000.0</td>\n",
       "      <td>187436818.0</td>\n",
       "    </tr>\n",
       "    <tr>\n",
       "      <th>6</th>\n",
       "      <td>11860</td>\n",
       "      <td>False</td>\n",
       "      <td>Sabrina</td>\n",
       "      <td>127.0</td>\n",
       "      <td>6.677277</td>\n",
       "      <td>0.0</td>\n",
       "      <td>6.2</td>\n",
       "      <td>1995-12-15</td>\n",
       "      <td>530.0</td>\n",
       "      <td>1059.0</td>\n",
       "      <td>7</td>\n",
       "      <td>19435.0</td>\n",
       "      <td>7886.0</td>\n",
       "      <td>845.0</td>\n",
       "      <td>1995</td>\n",
       "      <td>53672080.0</td>\n",
       "      <td>33641681.0</td>\n",
       "      <td>87313761.0</td>\n",
       "    </tr>\n",
       "    <tr>\n",
       "      <th>7</th>\n",
       "      <td>45325</td>\n",
       "      <td>False</td>\n",
       "      <td>Tom and Huck</td>\n",
       "      <td>97.0</td>\n",
       "      <td>2.561161</td>\n",
       "      <td>0.0</td>\n",
       "      <td>5.4</td>\n",
       "      <td>1995-12-22</td>\n",
       "      <td>29106.0</td>\n",
       "      <td>25750.0</td>\n",
       "      <td>8</td>\n",
       "      <td>3635.0</td>\n",
       "      <td>-1.0</td>\n",
       "      <td>26431.0</td>\n",
       "      <td>1995</td>\n",
       "      <td>23735802.0</td>\n",
       "      <td>0.0</td>\n",
       "      <td>23735802.0</td>\n",
       "    </tr>\n",
       "    <tr>\n",
       "      <th>8</th>\n",
       "      <td>9091</td>\n",
       "      <td>False</td>\n",
       "      <td>Sudden Death</td>\n",
       "      <td>106.0</td>\n",
       "      <td>5.231580</td>\n",
       "      <td>64350171.0</td>\n",
       "      <td>5.5</td>\n",
       "      <td>1995-12-22</td>\n",
       "      <td>32083.0</td>\n",
       "      <td>16952.0</td>\n",
       "      <td>9</td>\n",
       "      <td>13859.0</td>\n",
       "      <td>15086.0</td>\n",
       "      <td>7147.0</td>\n",
       "      <td>1995</td>\n",
       "      <td>20350171.0</td>\n",
       "      <td>44000000.0</td>\n",
       "      <td>64350171.0</td>\n",
       "    </tr>\n",
       "    <tr>\n",
       "      <th>9</th>\n",
       "      <td>710</td>\n",
       "      <td>False</td>\n",
       "      <td>GoldenEye</td>\n",
       "      <td>130.0</td>\n",
       "      <td>14.686036</td>\n",
       "      <td>352194034.0</td>\n",
       "      <td>6.6</td>\n",
       "      <td>1995-11-16</td>\n",
       "      <td>6601.0</td>\n",
       "      <td>1328.0</td>\n",
       "      <td>10</td>\n",
       "      <td>13849.0</td>\n",
       "      <td>1580.0</td>\n",
       "      <td>15654.0</td>\n",
       "      <td>1995</td>\n",
       "      <td>106600000.0</td>\n",
       "      <td>245764093.0</td>\n",
       "      <td>352364093.0</td>\n",
       "    </tr>\n",
       "  </tbody>\n",
       "</table>\n",
       "</div>"
      ],
      "text/plain": [
       "   movie_id  adult               original_title  runtime  popularity  \\\n",
       "0       862  False                    Toy Story     81.0   21.946943   \n",
       "1      8844  False                      Jumanji    104.0   17.015539   \n",
       "2     15602  False             Grumpier Old Men    101.0   11.712900   \n",
       "3     31357  False            Waiting to Exhale    127.0    3.859495   \n",
       "4     11862  False  Father of the Bride Part II    106.0    8.387519   \n",
       "5       949  False                         Heat    170.0   17.924927   \n",
       "6     11860  False                      Sabrina    127.0    6.677277   \n",
       "7     45325  False                 Tom and Huck     97.0    2.561161   \n",
       "8      9091  False                 Sudden Death    106.0    5.231580   \n",
       "9       710  False                    GoldenEye    130.0   14.686036   \n",
       "\n",
       "       revenue  vote_average release_date   CastID   CrewID  DimDateID  \\\n",
       "0  373554033.0           7.7   1995-10-30  16223.0    263.0          1   \n",
       "1  262797249.0           6.9   1995-12-15   3674.0   7013.0          2   \n",
       "2          0.0           6.5   1995-12-22  29060.0  25692.0          3   \n",
       "3   81452156.0           6.1   1995-12-22  22681.0  14045.0          4   \n",
       "4   76578911.0           5.7   1995-02-10  18414.0  20961.0          5   \n",
       "5  187436818.0           7.7   1995-12-15    375.0    659.0          6   \n",
       "6          0.0           6.2   1995-12-15    530.0   1059.0          7   \n",
       "7          0.0           5.4   1995-12-22  29106.0  25750.0          8   \n",
       "8   64350171.0           5.5   1995-12-22  32083.0  16952.0          9   \n",
       "9  352194034.0           6.6   1995-11-16   6601.0   1328.0         10   \n",
       "\n",
       "   GenreID  KeywordsID  ProdCompID  year  domestic_gross  overseas_gross  \\\n",
       "0   6801.0      4872.0     22856.0  1995     192364233.0     181757800.0   \n",
       "1   5172.0      9189.0      5435.0  1995     100475249.0     162322000.0   \n",
       "2  19431.0     15085.0     15661.0  1995      69870000.0             0.0   \n",
       "3  13942.0     10481.0     26432.0  1995      67052156.0      14400000.0   \n",
       "4  29138.0      5180.0     15659.0  1995      76594000.0             0.0   \n",
       "5   3634.0       153.0      7149.0  1995      67436818.0     120000000.0   \n",
       "6  19435.0      7886.0       845.0  1995      53672080.0      33641681.0   \n",
       "7   3635.0        -1.0     26431.0  1995      23735802.0             0.0   \n",
       "8  13859.0     15086.0      7147.0  1995      20350171.0      44000000.0   \n",
       "9  13849.0      1580.0     15654.0  1995     106600000.0     245764093.0   \n",
       "\n",
       "   worldwide_gross  \n",
       "0      374122033.0  \n",
       "1      262797249.0  \n",
       "2       69870000.0  \n",
       "3       81452156.0  \n",
       "4       76594000.0  \n",
       "5      187436818.0  \n",
       "6       87313761.0  \n",
       "7       23735802.0  \n",
       "8       64350171.0  \n",
       "9      352364093.0  "
      ]
     },
     "execution_count": 34,
     "metadata": {},
     "output_type": "execute_result"
    }
   ],
   "source": [
    "movies.head(10)"
   ]
  },
  {
   "cell_type": "markdown",
   "id": "abb77bcc-6ef2-4749-ae07-e1e7ef751a92",
   "metadata": {},
   "source": [
    "Nice we will fill 5k of movie with 0 revenue"
   ]
  },
  {
   "cell_type": "code",
   "execution_count": 35,
   "id": "74f00845-4f21-462d-834c-8b0cf4a41675",
   "metadata": {},
   "outputs": [
    {
     "data": {
      "text/plain": [
       "38042"
      ]
     },
     "execution_count": 35,
     "metadata": {},
     "output_type": "execute_result"
    }
   ],
   "source": [
    "# get number of movies that has 0 revenue\n",
    "(movies.revenue == 0).sum()"
   ]
  },
  {
   "cell_type": "markdown",
   "id": "ebdb92f8-8e3c-4c2d-a247-d23857f3df53",
   "metadata": {},
   "source": [
    "Replace 0 revenue with worldwide_gross"
   ]
  },
  {
   "cell_type": "code",
   "execution_count": 36,
   "id": "8250e49d-462a-4f17-8d0e-c93ab6306769",
   "metadata": {},
   "outputs": [],
   "source": [
    "indx = movies.query('revenue == 0 & worldwide_gross!=0')['revenue'].index.tolist()\n",
    "movies.loc[indx,['revenue']] = movies.loc[indx,['worldwide_gross']].values"
   ]
  },
  {
   "cell_type": "code",
   "execution_count": 37,
   "id": "3c8a1714-c894-4ef4-9033-a4d85b5d8a90",
   "metadata": {},
   "outputs": [
    {
     "data": {
      "text/plain": [
       "32998"
      ]
     },
     "execution_count": 37,
     "metadata": {},
     "output_type": "execute_result"
    }
   ],
   "source": [
    "(movies.revenue == 0).sum()"
   ]
  },
  {
   "cell_type": "code",
   "execution_count": 38,
   "id": "99f0dd9f-fabd-4dbd-9940-d8aa263a85b3",
   "metadata": {},
   "outputs": [
    {
     "data": {
      "text/html": [
       "<div>\n",
       "<style scoped>\n",
       "    .dataframe tbody tr th:only-of-type {\n",
       "        vertical-align: middle;\n",
       "    }\n",
       "\n",
       "    .dataframe tbody tr th {\n",
       "        vertical-align: top;\n",
       "    }\n",
       "\n",
       "    .dataframe thead th {\n",
       "        text-align: right;\n",
       "    }\n",
       "</style>\n",
       "<table border=\"1\" class=\"dataframe\">\n",
       "  <thead>\n",
       "    <tr style=\"text-align: right;\">\n",
       "      <th></th>\n",
       "      <th>movie_id</th>\n",
       "      <th>adult</th>\n",
       "      <th>original_title</th>\n",
       "      <th>runtime</th>\n",
       "      <th>popularity</th>\n",
       "      <th>revenue</th>\n",
       "      <th>vote_average</th>\n",
       "      <th>release_date</th>\n",
       "      <th>CastID</th>\n",
       "      <th>CrewID</th>\n",
       "      <th>DimDateID</th>\n",
       "      <th>GenreID</th>\n",
       "      <th>KeywordsID</th>\n",
       "      <th>ProdCompID</th>\n",
       "      <th>year</th>\n",
       "      <th>domestic_gross</th>\n",
       "      <th>overseas_gross</th>\n",
       "      <th>worldwide_gross</th>\n",
       "    </tr>\n",
       "  </thead>\n",
       "  <tbody>\n",
       "    <tr>\n",
       "      <th>0</th>\n",
       "      <td>862</td>\n",
       "      <td>False</td>\n",
       "      <td>Toy Story</td>\n",
       "      <td>81.0</td>\n",
       "      <td>21.946943</td>\n",
       "      <td>373554033.0</td>\n",
       "      <td>7.7</td>\n",
       "      <td>1995-10-30</td>\n",
       "      <td>16223.0</td>\n",
       "      <td>263.0</td>\n",
       "      <td>1</td>\n",
       "      <td>6801.0</td>\n",
       "      <td>4872.0</td>\n",
       "      <td>22856.0</td>\n",
       "      <td>1995</td>\n",
       "      <td>192364233.0</td>\n",
       "      <td>181757800.0</td>\n",
       "      <td>374122033.0</td>\n",
       "    </tr>\n",
       "    <tr>\n",
       "      <th>1</th>\n",
       "      <td>8844</td>\n",
       "      <td>False</td>\n",
       "      <td>Jumanji</td>\n",
       "      <td>104.0</td>\n",
       "      <td>17.015539</td>\n",
       "      <td>262797249.0</td>\n",
       "      <td>6.9</td>\n",
       "      <td>1995-12-15</td>\n",
       "      <td>3674.0</td>\n",
       "      <td>7013.0</td>\n",
       "      <td>2</td>\n",
       "      <td>5172.0</td>\n",
       "      <td>9189.0</td>\n",
       "      <td>5435.0</td>\n",
       "      <td>1995</td>\n",
       "      <td>100475249.0</td>\n",
       "      <td>162322000.0</td>\n",
       "      <td>262797249.0</td>\n",
       "    </tr>\n",
       "    <tr>\n",
       "      <th>2</th>\n",
       "      <td>15602</td>\n",
       "      <td>False</td>\n",
       "      <td>Grumpier Old Men</td>\n",
       "      <td>101.0</td>\n",
       "      <td>11.712900</td>\n",
       "      <td>69870000.0</td>\n",
       "      <td>6.5</td>\n",
       "      <td>1995-12-22</td>\n",
       "      <td>29060.0</td>\n",
       "      <td>25692.0</td>\n",
       "      <td>3</td>\n",
       "      <td>19431.0</td>\n",
       "      <td>15085.0</td>\n",
       "      <td>15661.0</td>\n",
       "      <td>1995</td>\n",
       "      <td>69870000.0</td>\n",
       "      <td>0.0</td>\n",
       "      <td>69870000.0</td>\n",
       "    </tr>\n",
       "    <tr>\n",
       "      <th>3</th>\n",
       "      <td>31357</td>\n",
       "      <td>False</td>\n",
       "      <td>Waiting to Exhale</td>\n",
       "      <td>127.0</td>\n",
       "      <td>3.859495</td>\n",
       "      <td>81452156.0</td>\n",
       "      <td>6.1</td>\n",
       "      <td>1995-12-22</td>\n",
       "      <td>22681.0</td>\n",
       "      <td>14045.0</td>\n",
       "      <td>4</td>\n",
       "      <td>13942.0</td>\n",
       "      <td>10481.0</td>\n",
       "      <td>26432.0</td>\n",
       "      <td>1995</td>\n",
       "      <td>67052156.0</td>\n",
       "      <td>14400000.0</td>\n",
       "      <td>81452156.0</td>\n",
       "    </tr>\n",
       "    <tr>\n",
       "      <th>4</th>\n",
       "      <td>11862</td>\n",
       "      <td>False</td>\n",
       "      <td>Father of the Bride Part II</td>\n",
       "      <td>106.0</td>\n",
       "      <td>8.387519</td>\n",
       "      <td>76578911.0</td>\n",
       "      <td>5.7</td>\n",
       "      <td>1995-02-10</td>\n",
       "      <td>18414.0</td>\n",
       "      <td>20961.0</td>\n",
       "      <td>5</td>\n",
       "      <td>29138.0</td>\n",
       "      <td>5180.0</td>\n",
       "      <td>15659.0</td>\n",
       "      <td>1995</td>\n",
       "      <td>76594000.0</td>\n",
       "      <td>0.0</td>\n",
       "      <td>76594000.0</td>\n",
       "    </tr>\n",
       "  </tbody>\n",
       "</table>\n",
       "</div>"
      ],
      "text/plain": [
       "   movie_id  adult               original_title  runtime  popularity  \\\n",
       "0       862  False                    Toy Story     81.0   21.946943   \n",
       "1      8844  False                      Jumanji    104.0   17.015539   \n",
       "2     15602  False             Grumpier Old Men    101.0   11.712900   \n",
       "3     31357  False            Waiting to Exhale    127.0    3.859495   \n",
       "4     11862  False  Father of the Bride Part II    106.0    8.387519   \n",
       "\n",
       "       revenue  vote_average release_date   CastID   CrewID  DimDateID  \\\n",
       "0  373554033.0           7.7   1995-10-30  16223.0    263.0          1   \n",
       "1  262797249.0           6.9   1995-12-15   3674.0   7013.0          2   \n",
       "2   69870000.0           6.5   1995-12-22  29060.0  25692.0          3   \n",
       "3   81452156.0           6.1   1995-12-22  22681.0  14045.0          4   \n",
       "4   76578911.0           5.7   1995-02-10  18414.0  20961.0          5   \n",
       "\n",
       "   GenreID  KeywordsID  ProdCompID  year  domestic_gross  overseas_gross  \\\n",
       "0   6801.0      4872.0     22856.0  1995     192364233.0     181757800.0   \n",
       "1   5172.0      9189.0      5435.0  1995     100475249.0     162322000.0   \n",
       "2  19431.0     15085.0     15661.0  1995      69870000.0             0.0   \n",
       "3  13942.0     10481.0     26432.0  1995      67052156.0      14400000.0   \n",
       "4  29138.0      5180.0     15659.0  1995      76594000.0             0.0   \n",
       "\n",
       "   worldwide_gross  \n",
       "0      374122033.0  \n",
       "1      262797249.0  \n",
       "2       69870000.0  \n",
       "3       81452156.0  \n",
       "4       76594000.0  "
      ]
     },
     "execution_count": 38,
     "metadata": {},
     "output_type": "execute_result"
    }
   ],
   "source": [
    "movies.head()"
   ]
  },
  {
   "cell_type": "code",
   "execution_count": 39,
   "id": "6cfbeef0-3ed4-4326-a60c-83042a39b8dd",
   "metadata": {},
   "outputs": [
    {
     "name": "stdout",
     "output_type": "stream",
     "text": [
      "<class 'pandas.core.frame.DataFrame'>\n",
      "Int64Index: 45467 entries, 0 to 45466\n",
      "Data columns (total 18 columns):\n",
      " #   Column           Non-Null Count  Dtype         \n",
      "---  ------           --------------  -----         \n",
      " 0   movie_id         45467 non-null  int64         \n",
      " 1   adult            45467 non-null  bool          \n",
      " 2   original_title   45467 non-null  object        \n",
      " 3   runtime          45467 non-null  float64       \n",
      " 4   popularity       45467 non-null  float64       \n",
      " 5   revenue          45467 non-null  float64       \n",
      " 6   vote_average     45467 non-null  float64       \n",
      " 7   release_date     45467 non-null  datetime64[ns]\n",
      " 8   CastID           45467 non-null  float64       \n",
      " 9   CrewID           45467 non-null  float64       \n",
      " 10  DimDateID        45467 non-null  int64         \n",
      " 11  GenreID          45467 non-null  float64       \n",
      " 12  KeywordsID       45467 non-null  float64       \n",
      " 13  ProdCompID       45467 non-null  float64       \n",
      " 14  year             45467 non-null  int64         \n",
      " 15  domestic_gross   45467 non-null  float64       \n",
      " 16  overseas_gross   45467 non-null  float64       \n",
      " 17  worldwide_gross  45467 non-null  float64       \n",
      "dtypes: bool(1), datetime64[ns](1), float64(12), int64(3), object(1)\n",
      "memory usage: 7.3+ MB\n"
     ]
    }
   ],
   "source": [
    "movies.info()"
   ]
  },
  {
   "cell_type": "markdown",
   "id": "e137f5d0-356c-4c47-9e00-2307b5984d46",
   "metadata": {},
   "source": [
    "### Add Normalized Revenue Against a Customer Price Index (CPI)"
   ]
  },
  {
   "cell_type": "code",
   "execution_count": 40,
   "id": "6e83de6f-8c98-47cf-8b0a-011e476d1ced",
   "metadata": {},
   "outputs": [],
   "source": [
    "cpi = pd.read_csv('data/in/fred/Consumer Price Index of Admission to Movies.csv')"
   ]
  },
  {
   "cell_type": "code",
   "execution_count": 41,
   "id": "9ff915ec-0704-4837-8c6b-0e5772db96a7",
   "metadata": {},
   "outputs": [],
   "source": [
    "cpi['date'] = pd.to_datetime(cpi.date)\n",
    "cpi['year'] = pd.to_datetime(cpi.date).dt.year\n",
    "cpi['month'] = pd.to_datetime(cpi.date).dt.month"
   ]
  },
  {
   "cell_type": "code",
   "execution_count": 42,
   "id": "395a035d-b661-4000-9542-dc48b43bc30b",
   "metadata": {},
   "outputs": [
    {
     "data": {
      "text/html": [
       "<div>\n",
       "<style scoped>\n",
       "    .dataframe tbody tr th:only-of-type {\n",
       "        vertical-align: middle;\n",
       "    }\n",
       "\n",
       "    .dataframe tbody tr th {\n",
       "        vertical-align: top;\n",
       "    }\n",
       "\n",
       "    .dataframe thead th {\n",
       "        text-align: right;\n",
       "    }\n",
       "</style>\n",
       "<table border=\"1\" class=\"dataframe\">\n",
       "  <thead>\n",
       "    <tr style=\"text-align: right;\">\n",
       "      <th></th>\n",
       "      <th>date</th>\n",
       "      <th>value</th>\n",
       "      <th>year</th>\n",
       "      <th>month</th>\n",
       "    </tr>\n",
       "  </thead>\n",
       "  <tbody>\n",
       "    <tr>\n",
       "      <th>0</th>\n",
       "      <td>1999-01-01</td>\n",
       "      <td>102.7</td>\n",
       "      <td>1999</td>\n",
       "      <td>1</td>\n",
       "    </tr>\n",
       "    <tr>\n",
       "      <th>1</th>\n",
       "      <td>1999-02-01</td>\n",
       "      <td>103.7</td>\n",
       "      <td>1999</td>\n",
       "      <td>2</td>\n",
       "    </tr>\n",
       "    <tr>\n",
       "      <th>2</th>\n",
       "      <td>1999-03-01</td>\n",
       "      <td>104.2</td>\n",
       "      <td>1999</td>\n",
       "      <td>3</td>\n",
       "    </tr>\n",
       "    <tr>\n",
       "      <th>3</th>\n",
       "      <td>1999-04-01</td>\n",
       "      <td>104.8</td>\n",
       "      <td>1999</td>\n",
       "      <td>4</td>\n",
       "    </tr>\n",
       "    <tr>\n",
       "      <th>4</th>\n",
       "      <td>1999-05-01</td>\n",
       "      <td>106.4</td>\n",
       "      <td>1999</td>\n",
       "      <td>5</td>\n",
       "    </tr>\n",
       "  </tbody>\n",
       "</table>\n",
       "</div>"
      ],
      "text/plain": [
       "        date  value  year  month\n",
       "0 1999-01-01  102.7  1999      1\n",
       "1 1999-02-01  103.7  1999      2\n",
       "2 1999-03-01  104.2  1999      3\n",
       "3 1999-04-01  104.8  1999      4\n",
       "4 1999-05-01  106.4  1999      5"
      ]
     },
     "execution_count": 42,
     "metadata": {},
     "output_type": "execute_result"
    }
   ],
   "source": [
    "cpi.head()"
   ]
  },
  {
   "cell_type": "code",
   "execution_count": 43,
   "id": "7ab2b8ba-6f71-429d-8ecb-350363768d9f",
   "metadata": {},
   "outputs": [
    {
     "data": {
      "text/plain": [
       "(Timestamp('1999-01-01 00:00:00'), Timestamp('2022-08-01 00:00:00'))"
      ]
     },
     "execution_count": 43,
     "metadata": {},
     "output_type": "execute_result"
    }
   ],
   "source": [
    "cpi.date.min(), cpi.date.max()"
   ]
  },
  {
   "cell_type": "code",
   "execution_count": 44,
   "id": "3f360270-f78a-486f-8bf0-a2f834d8e0de",
   "metadata": {},
   "outputs": [
    {
     "data": {
      "text/html": [
       "<div>\n",
       "<style scoped>\n",
       "    .dataframe tbody tr th:only-of-type {\n",
       "        vertical-align: middle;\n",
       "    }\n",
       "\n",
       "    .dataframe tbody tr th {\n",
       "        vertical-align: top;\n",
       "    }\n",
       "\n",
       "    .dataframe thead th {\n",
       "        text-align: right;\n",
       "    }\n",
       "</style>\n",
       "<table border=\"1\" class=\"dataframe\">\n",
       "  <thead>\n",
       "    <tr style=\"text-align: right;\">\n",
       "      <th></th>\n",
       "      <th>movie_id</th>\n",
       "      <th>adult</th>\n",
       "      <th>original_title</th>\n",
       "      <th>runtime</th>\n",
       "      <th>popularity</th>\n",
       "      <th>revenue</th>\n",
       "      <th>vote_average</th>\n",
       "      <th>release_date</th>\n",
       "      <th>CastID</th>\n",
       "      <th>CrewID</th>\n",
       "      <th>DimDateID</th>\n",
       "      <th>GenreID</th>\n",
       "      <th>KeywordsID</th>\n",
       "      <th>ProdCompID</th>\n",
       "      <th>year</th>\n",
       "      <th>domestic_gross</th>\n",
       "      <th>overseas_gross</th>\n",
       "      <th>worldwide_gross</th>\n",
       "    </tr>\n",
       "  </thead>\n",
       "  <tbody>\n",
       "    <tr>\n",
       "      <th>707</th>\n",
       "      <td>131232</td>\n",
       "      <td>False</td>\n",
       "      <td>Due Amici</td>\n",
       "      <td>86.0</td>\n",
       "      <td>0.003949</td>\n",
       "      <td>0.0</td>\n",
       "      <td>0.0</td>\n",
       "      <td>2002-03-20</td>\n",
       "      <td>40906.0</td>\n",
       "      <td>26029.0</td>\n",
       "      <td>708</td>\n",
       "      <td>19785.0</td>\n",
       "      <td>-1.0</td>\n",
       "      <td>-1.0</td>\n",
       "      <td>2002</td>\n",
       "      <td>0.0</td>\n",
       "      <td>0.0</td>\n",
       "      <td>0.0</td>\n",
       "    </tr>\n",
       "    <tr>\n",
       "      <th>868</th>\n",
       "      <td>79782</td>\n",
       "      <td>False</td>\n",
       "      <td>Wenecja</td>\n",
       "      <td>110.0</td>\n",
       "      <td>0.147130</td>\n",
       "      <td>0.0</td>\n",
       "      <td>7.5</td>\n",
       "      <td>2010-05-25</td>\n",
       "      <td>32050.0</td>\n",
       "      <td>24350.0</td>\n",
       "      <td>869</td>\n",
       "      <td>19846.0</td>\n",
       "      <td>-1.0</td>\n",
       "      <td>-1.0</td>\n",
       "      <td>2010</td>\n",
       "      <td>0.0</td>\n",
       "      <td>0.0</td>\n",
       "      <td>0.0</td>\n",
       "    </tr>\n",
       "    <tr>\n",
       "      <th>1081</th>\n",
       "      <td>141210</td>\n",
       "      <td>False</td>\n",
       "      <td>The Sleepover</td>\n",
       "      <td>6.0</td>\n",
       "      <td>0.135596</td>\n",
       "      <td>0.0</td>\n",
       "      <td>8.0</td>\n",
       "      <td>2013-10-12</td>\n",
       "      <td>36222.0</td>\n",
       "      <td>41724.0</td>\n",
       "      <td>1082</td>\n",
       "      <td>18302.0</td>\n",
       "      <td>-1.0</td>\n",
       "      <td>-1.0</td>\n",
       "      <td>2013</td>\n",
       "      <td>0.0</td>\n",
       "      <td>0.0</td>\n",
       "      <td>0.0</td>\n",
       "    </tr>\n",
       "    <tr>\n",
       "      <th>1654</th>\n",
       "      <td>216794</td>\n",
       "      <td>False</td>\n",
       "      <td>Men of Means</td>\n",
       "      <td>80.0</td>\n",
       "      <td>0.022078</td>\n",
       "      <td>0.0</td>\n",
       "      <td>0.0</td>\n",
       "      <td>1999-05-25</td>\n",
       "      <td>36179.0</td>\n",
       "      <td>33685.0</td>\n",
       "      <td>1655</td>\n",
       "      <td>18422.0</td>\n",
       "      <td>19810.0</td>\n",
       "      <td>16206.0</td>\n",
       "      <td>1999</td>\n",
       "      <td>0.0</td>\n",
       "      <td>0.0</td>\n",
       "      <td>0.0</td>\n",
       "    </tr>\n",
       "    <tr>\n",
       "      <th>2113</th>\n",
       "      <td>143750</td>\n",
       "      <td>False</td>\n",
       "      <td>The Farmer's Wife</td>\n",
       "      <td>18.0</td>\n",
       "      <td>0.211754</td>\n",
       "      <td>0.0</td>\n",
       "      <td>10.0</td>\n",
       "      <td>2012-06-20</td>\n",
       "      <td>39124.0</td>\n",
       "      <td>17040.0</td>\n",
       "      <td>2114</td>\n",
       "      <td>30377.0</td>\n",
       "      <td>25106.0</td>\n",
       "      <td>-1.0</td>\n",
       "      <td>2012</td>\n",
       "      <td>0.0</td>\n",
       "      <td>0.0</td>\n",
       "      <td>0.0</td>\n",
       "    </tr>\n",
       "  </tbody>\n",
       "</table>\n",
       "</div>"
      ],
      "text/plain": [
       "      movie_id  adult     original_title  runtime  popularity  revenue  \\\n",
       "707     131232  False          Due Amici     86.0    0.003949      0.0   \n",
       "868      79782  False            Wenecja    110.0    0.147130      0.0   \n",
       "1081    141210  False      The Sleepover      6.0    0.135596      0.0   \n",
       "1654    216794  False       Men of Means     80.0    0.022078      0.0   \n",
       "2113    143750  False  The Farmer's Wife     18.0    0.211754      0.0   \n",
       "\n",
       "      vote_average release_date   CastID   CrewID  DimDateID  GenreID  \\\n",
       "707            0.0   2002-03-20  40906.0  26029.0        708  19785.0   \n",
       "868            7.5   2010-05-25  32050.0  24350.0        869  19846.0   \n",
       "1081           8.0   2013-10-12  36222.0  41724.0       1082  18302.0   \n",
       "1654           0.0   1999-05-25  36179.0  33685.0       1655  18422.0   \n",
       "2113          10.0   2012-06-20  39124.0  17040.0       2114  30377.0   \n",
       "\n",
       "      KeywordsID  ProdCompID  year  domestic_gross  overseas_gross  \\\n",
       "707         -1.0        -1.0  2002             0.0             0.0   \n",
       "868         -1.0        -1.0  2010             0.0             0.0   \n",
       "1081        -1.0        -1.0  2013             0.0             0.0   \n",
       "1654     19810.0     16206.0  1999             0.0             0.0   \n",
       "2113     25106.0        -1.0  2012             0.0             0.0   \n",
       "\n",
       "      worldwide_gross  \n",
       "707               0.0  \n",
       "868               0.0  \n",
       "1081              0.0  \n",
       "1654              0.0  \n",
       "2113              0.0  "
      ]
     },
     "execution_count": 44,
     "metadata": {},
     "output_type": "execute_result"
    }
   ],
   "source": [
    "movies.query('release_date >= @cpi.date.min() & release_date <= @cpi.date.max()').head()"
   ]
  },
  {
   "cell_type": "code",
   "execution_count": 45,
   "id": "32e36b20-4dc3-4515-b6fd-1a8dd11b0ad8",
   "metadata": {},
   "outputs": [
    {
     "data": {
      "text/plain": [
       "17513"
      ]
     },
     "execution_count": 45,
     "metadata": {},
     "output_type": "execute_result"
    }
   ],
   "source": [
    "(movies.query('release_date >= @cpi.date.min() & release_date <= @cpi.date.max()')['revenue']==0).sum()"
   ]
  },
  {
   "cell_type": "markdown",
   "id": "ca0ecb67-ea5e-42cb-b2e1-9f62e141bc13",
   "metadata": {},
   "source": [
    "We can normalize revenue of 24742 movies and almost 17513 of them have 0 revenue "
   ]
  },
  {
   "cell_type": "code",
   "execution_count": 46,
   "id": "2b319690-fe94-48fa-801f-bc195eb0211a",
   "metadata": {},
   "outputs": [
    {
     "data": {
      "text/plain": [
       "102.7"
      ]
     },
     "execution_count": 46,
     "metadata": {},
     "output_type": "execute_result"
    }
   ],
   "source": [
    "float(cpi.query('year == 1999 & month == 1')['value'])"
   ]
  },
  {
   "cell_type": "code",
   "execution_count": 47,
   "id": "6e1a6199-ac26-487c-8cdb-d11cc0729ae8",
   "metadata": {},
   "outputs": [],
   "source": [
    "def get_normalize(data):\n",
    "    base_cpi = float(cpi['value'][0])\n",
    "    m_revenue = data['revenue']\n",
    "    m_year = int(pd.to_datetime(data.release_date).dt.year.values)\n",
    "    m_month = int(pd.to_datetime(data.release_date).dt.month.values)\n",
    "    movie_cpi = cpi.query('year == @m_year & month == @m_month')['value'].values\n",
    "    if m_year<1999 or m_year>2022:\n",
    "        return 0\n",
    "    else:\n",
    "        return float(m_revenue * (base_cpi/movie_cpi))"
   ]
  },
  {
   "cell_type": "code",
   "execution_count": 48,
   "id": "ad2115cd-0d62-4b1e-8e7e-bbe0f22b40f4",
   "metadata": {},
   "outputs": [],
   "source": [
    "normalize_rev = []\n",
    "y = 1\n",
    "for i in range(movies.shape[0]):\n",
    "    normalize_rev.append(get_normalize(movies[i:y]))\n",
    "    y+=1\n",
    "    \n",
    "movies['revenue_normalized_Jan_1999'] = normalize_rev"
   ]
  },
  {
   "cell_type": "markdown",
   "id": "ea1293d5-17cf-468d-9922-e2af2676cfa9",
   "metadata": {},
   "source": [
    "### convert Dim ID to Int"
   ]
  },
  {
   "cell_type": "code",
   "execution_count": 49,
   "id": "6387c088-1dc1-45bf-b527-43af39861eae",
   "metadata": {},
   "outputs": [],
   "source": [
    "movies[['CastID','CrewID','GenreID','KeywordsID','ProdCompID']] = \\\n",
    "movies[['CastID','CrewID','GenreID','KeywordsID','ProdCompID']].astype('int64')"
   ]
  },
  {
   "cell_type": "markdown",
   "id": "ca10ce55-9310-49c6-8e8c-aa5d72ffb6c3",
   "metadata": {
    "tags": []
   },
   "source": [
    "### Add average user rating"
   ]
  },
  {
   "cell_type": "code",
   "execution_count": 50,
   "id": "1c2f7cb0-133e-46a1-8852-e2143bff39b1",
   "metadata": {},
   "outputs": [],
   "source": [
    "user_rating = pd.read_csv('data/evaluate/raw/userrating.csv')"
   ]
  },
  {
   "cell_type": "code",
   "execution_count": 51,
   "id": "155f03bc-4e35-480c-801b-a0b42271c6e9",
   "metadata": {},
   "outputs": [],
   "source": [
    "user_rating.rename(columns={\"movieId\":'movie_id'}, inplace=True)"
   ]
  },
  {
   "cell_type": "code",
   "execution_count": 52,
   "id": "4ae4a0ef-a694-466c-88b1-57932171ebe5",
   "metadata": {},
   "outputs": [],
   "source": [
    "movies = movies.merge(user_rating,how='left', on ='movie_id')"
   ]
  },
  {
   "cell_type": "code",
   "execution_count": 53,
   "id": "f9fabe98-ef14-43c6-ad6e-46ae3fd8376b",
   "metadata": {},
   "outputs": [],
   "source": [
    "movies.rating.fillna(0,inplace=True)"
   ]
  },
  {
   "cell_type": "code",
   "execution_count": 54,
   "id": "332f1bbb-c40e-48ce-a1ca-a3dca36d876a",
   "metadata": {},
   "outputs": [],
   "source": [
    "movies['DummyCol'] = 0"
   ]
  },
  {
   "cell_type": "code",
   "execution_count": 55,
   "id": "44cc00dc-ea32-45ca-868f-e62d560b33d7",
   "metadata": {},
   "outputs": [],
   "source": [
    "movies['DimFactID'] = range(movies.shape[0])"
   ]
  },
  {
   "cell_type": "code",
   "execution_count": 56,
   "id": "3c980c48-a1d4-4f20-a2b6-6e94c73222e3",
   "metadata": {
    "tags": []
   },
   "outputs": [
    {
     "data": {
      "text/plain": [
       "Index(['movie_id', 'adult', 'original_title', 'runtime', 'popularity',\n",
       "       'revenue', 'vote_average', 'release_date', 'CastID', 'CrewID',\n",
       "       'DimDateID', 'GenreID', 'KeywordsID', 'ProdCompID', 'year',\n",
       "       'domestic_gross', 'overseas_gross', 'worldwide_gross',\n",
       "       'revenue_normalized_Jan_1999', 'rating', 'DummyCol', 'DimFactID'],\n",
       "      dtype='object')"
      ]
     },
     "execution_count": 56,
     "metadata": {},
     "output_type": "execute_result"
    }
   ],
   "source": [
    "movies.columns"
   ]
  },
  {
   "cell_type": "code",
   "execution_count": 58,
   "id": "ea302c72-8381-4362-84ef-5a56b60d94ce",
   "metadata": {
    "tags": []
   },
   "outputs": [],
   "source": [
    "movies = movies[['DimFactID','DimDateID','CastID','DummyCol','CrewID','ProdCompID','KeywordsID','GenreID',\n",
    "                 'original_title','runtime','release_date','popularity','vote_average',\n",
    "                 'rating','revenue','revenue_normalized_Jan_1999']]"
   ]
  },
  {
   "cell_type": "code",
   "execution_count": 59,
   "id": "9a2a6f99-5713-4cf2-9eb3-a76967f5383f",
   "metadata": {},
   "outputs": [],
   "source": [
    "movies.columns = ['DimFactID','DimDateID','CastID','DummyCol','CrewID','ProdCompID','KeywordsID','GenreID',\n",
    "                 'Original_Title','Runtime','Release_Date','Popularity','IMDb_Vote_Avg','Users_Rating_Avg',\n",
    "                  'Revenue','Revenue_Normalized_Jan_1999']"
   ]
  },
  {
   "cell_type": "code",
   "execution_count": 60,
   "id": "51de3330-55b4-45b2-ae80-dbd5d244a693",
   "metadata": {},
   "outputs": [
    {
     "data": {
      "text/html": [
       "<div>\n",
       "<style scoped>\n",
       "    .dataframe tbody tr th:only-of-type {\n",
       "        vertical-align: middle;\n",
       "    }\n",
       "\n",
       "    .dataframe tbody tr th {\n",
       "        vertical-align: top;\n",
       "    }\n",
       "\n",
       "    .dataframe thead th {\n",
       "        text-align: right;\n",
       "    }\n",
       "</style>\n",
       "<table border=\"1\" class=\"dataframe\">\n",
       "  <thead>\n",
       "    <tr style=\"text-align: right;\">\n",
       "      <th></th>\n",
       "      <th>DimFactID</th>\n",
       "      <th>DimDateID</th>\n",
       "      <th>CastID</th>\n",
       "      <th>DummyCol</th>\n",
       "      <th>CrewID</th>\n",
       "      <th>ProdCompID</th>\n",
       "      <th>KeywordsID</th>\n",
       "      <th>GenreID</th>\n",
       "      <th>Original_Title</th>\n",
       "      <th>Runtime</th>\n",
       "      <th>Release_Date</th>\n",
       "      <th>Popularity</th>\n",
       "      <th>IMDb_Vote_Avg</th>\n",
       "      <th>Users_Rating_Avg</th>\n",
       "      <th>Revenue</th>\n",
       "      <th>Revenue_Normalized_Jan_1999</th>\n",
       "    </tr>\n",
       "  </thead>\n",
       "  <tbody>\n",
       "    <tr>\n",
       "      <th>0</th>\n",
       "      <td>0</td>\n",
       "      <td>1</td>\n",
       "      <td>16223</td>\n",
       "      <td>0</td>\n",
       "      <td>263</td>\n",
       "      <td>22856</td>\n",
       "      <td>4872</td>\n",
       "      <td>6801</td>\n",
       "      <td>Toy Story</td>\n",
       "      <td>81.0</td>\n",
       "      <td>1995-10-30</td>\n",
       "      <td>21.946943</td>\n",
       "      <td>7.7</td>\n",
       "      <td>3.598930</td>\n",
       "      <td>373554033.0</td>\n",
       "      <td>0.0</td>\n",
       "    </tr>\n",
       "    <tr>\n",
       "      <th>1</th>\n",
       "      <td>1</td>\n",
       "      <td>2</td>\n",
       "      <td>3674</td>\n",
       "      <td>0</td>\n",
       "      <td>7013</td>\n",
       "      <td>5435</td>\n",
       "      <td>9189</td>\n",
       "      <td>5172</td>\n",
       "      <td>Jumanji</td>\n",
       "      <td>104.0</td>\n",
       "      <td>1995-12-15</td>\n",
       "      <td>17.015539</td>\n",
       "      <td>6.9</td>\n",
       "      <td>3.760163</td>\n",
       "      <td>262797249.0</td>\n",
       "      <td>0.0</td>\n",
       "    </tr>\n",
       "    <tr>\n",
       "      <th>2</th>\n",
       "      <td>2</td>\n",
       "      <td>3</td>\n",
       "      <td>29060</td>\n",
       "      <td>0</td>\n",
       "      <td>25692</td>\n",
       "      <td>15661</td>\n",
       "      <td>15085</td>\n",
       "      <td>19431</td>\n",
       "      <td>Grumpier Old Men</td>\n",
       "      <td>101.0</td>\n",
       "      <td>1995-12-22</td>\n",
       "      <td>11.712900</td>\n",
       "      <td>6.5</td>\n",
       "      <td>0.000000</td>\n",
       "      <td>69870000.0</td>\n",
       "      <td>0.0</td>\n",
       "    </tr>\n",
       "    <tr>\n",
       "      <th>3</th>\n",
       "      <td>3</td>\n",
       "      <td>4</td>\n",
       "      <td>22681</td>\n",
       "      <td>0</td>\n",
       "      <td>14045</td>\n",
       "      <td>26432</td>\n",
       "      <td>10481</td>\n",
       "      <td>13942</td>\n",
       "      <td>Waiting to Exhale</td>\n",
       "      <td>127.0</td>\n",
       "      <td>1995-12-22</td>\n",
       "      <td>3.859495</td>\n",
       "      <td>6.1</td>\n",
       "      <td>0.000000</td>\n",
       "      <td>81452156.0</td>\n",
       "      <td>0.0</td>\n",
       "    </tr>\n",
       "    <tr>\n",
       "      <th>4</th>\n",
       "      <td>4</td>\n",
       "      <td>5</td>\n",
       "      <td>18414</td>\n",
       "      <td>0</td>\n",
       "      <td>20961</td>\n",
       "      <td>15659</td>\n",
       "      <td>5180</td>\n",
       "      <td>29138</td>\n",
       "      <td>Father of the Bride Part II</td>\n",
       "      <td>106.0</td>\n",
       "      <td>1995-02-10</td>\n",
       "      <td>8.387519</td>\n",
       "      <td>5.7</td>\n",
       "      <td>0.000000</td>\n",
       "      <td>76578911.0</td>\n",
       "      <td>0.0</td>\n",
       "    </tr>\n",
       "  </tbody>\n",
       "</table>\n",
       "</div>"
      ],
      "text/plain": [
       "   DimFactID  DimDateID  CastID  DummyCol  CrewID  ProdCompID  KeywordsID  \\\n",
       "0          0          1   16223         0     263       22856        4872   \n",
       "1          1          2    3674         0    7013        5435        9189   \n",
       "2          2          3   29060         0   25692       15661       15085   \n",
       "3          3          4   22681         0   14045       26432       10481   \n",
       "4          4          5   18414         0   20961       15659        5180   \n",
       "\n",
       "   GenreID               Original_Title  Runtime Release_Date  Popularity  \\\n",
       "0     6801                    Toy Story     81.0   1995-10-30   21.946943   \n",
       "1     5172                      Jumanji    104.0   1995-12-15   17.015539   \n",
       "2    19431             Grumpier Old Men    101.0   1995-12-22   11.712900   \n",
       "3    13942            Waiting to Exhale    127.0   1995-12-22    3.859495   \n",
       "4    29138  Father of the Bride Part II    106.0   1995-02-10    8.387519   \n",
       "\n",
       "   IMDb_Vote_Avg  Users_Rating_Avg      Revenue  Revenue_Normalized_Jan_1999  \n",
       "0            7.7          3.598930  373554033.0                          0.0  \n",
       "1            6.9          3.760163  262797249.0                          0.0  \n",
       "2            6.5          0.000000   69870000.0                          0.0  \n",
       "3            6.1          0.000000   81452156.0                          0.0  \n",
       "4            5.7          0.000000   76578911.0                          0.0  "
      ]
     },
     "execution_count": 60,
     "metadata": {},
     "output_type": "execute_result"
    }
   ],
   "source": [
    "movies.head()"
   ]
  },
  {
   "cell_type": "code",
   "execution_count": 61,
   "id": "17065800-29ae-4ac6-9685-582161646b96",
   "metadata": {},
   "outputs": [
    {
     "name": "stdout",
     "output_type": "stream",
     "text": [
      "<class 'pandas.core.frame.DataFrame'>\n",
      "Int64Index: 45467 entries, 0 to 45466\n",
      "Data columns (total 16 columns):\n",
      " #   Column                       Non-Null Count  Dtype         \n",
      "---  ------                       --------------  -----         \n",
      " 0   DimFactID                    45467 non-null  int64         \n",
      " 1   DimDateID                    45467 non-null  int64         \n",
      " 2   CastID                       45467 non-null  int64         \n",
      " 3   DummyCol                     45467 non-null  int64         \n",
      " 4   CrewID                       45467 non-null  int64         \n",
      " 5   ProdCompID                   45467 non-null  int64         \n",
      " 6   KeywordsID                   45467 non-null  int64         \n",
      " 7   GenreID                      45467 non-null  int64         \n",
      " 8   Original_Title               45467 non-null  object        \n",
      " 9   Runtime                      45467 non-null  float64       \n",
      " 10  Release_Date                 45467 non-null  datetime64[ns]\n",
      " 11  Popularity                   45467 non-null  float64       \n",
      " 12  IMDb_Vote_Avg                45467 non-null  float64       \n",
      " 13  Users_Rating_Avg             45467 non-null  float64       \n",
      " 14  Revenue                      45467 non-null  float64       \n",
      " 15  Revenue_Normalized_Jan_1999  45467 non-null  float64       \n",
      "dtypes: datetime64[ns](1), float64(6), int64(8), object(1)\n",
      "memory usage: 5.9+ MB\n"
     ]
    }
   ],
   "source": [
    "movies.info()"
   ]
  },
  {
   "cell_type": "markdown",
   "id": "e34b4303-9dc6-477e-9397-5c14adc11711",
   "metadata": {
    "tags": []
   },
   "source": [
    "#### save the data"
   ]
  },
  {
   "cell_type": "code",
   "execution_count": 62,
   "id": "d57e6e07-096e-4278-b6ea-4815d6288bda",
   "metadata": {},
   "outputs": [],
   "source": [
    "movies.to_csv('data/out/Movies_Fact.csv',index=False)"
   ]
  },
  {
   "cell_type": "code",
   "execution_count": null,
   "id": "fe0a262b-f519-49c4-a939-1c2dd4a06535",
   "metadata": {},
   "outputs": [],
   "source": []
  },
  {
   "cell_type": "code",
   "execution_count": null,
   "id": "f1ca88b7-b6b5-4dd5-b184-edc45b100ee7",
   "metadata": {},
   "outputs": [],
   "source": []
  }
 ],
 "metadata": {
  "kernelspec": {
   "display_name": "Python 3 (ipykernel)",
   "language": "python",
   "name": "python3"
  },
  "language_info": {
   "codemirror_mode": {
    "name": "ipython",
    "version": 3
   },
   "file_extension": ".py",
   "mimetype": "text/x-python",
   "name": "python",
   "nbconvert_exporter": "python",
   "pygments_lexer": "ipython3",
   "version": "3.9.12"
  }
 },
 "nbformat": 4,
 "nbformat_minor": 5
}
