{
 "cells": [
  {
   "cell_type": "code",
   "execution_count": 18,
   "id": "2831af0d-0d79-43d4-84e7-fd876472b05a",
   "metadata": {},
   "outputs": [],
   "source": [
    "import pandas as pd \n",
    "import os\n",
    "from Functions import evaluate"
   ]
  },
  {
   "cell_type": "code",
   "execution_count": 2,
   "id": "5ff301f5-4468-4725-85a2-43603bfd7976",
   "metadata": {},
   "outputs": [
    {
     "data": {
      "text/plain": [
       "['credits.csv',\n",
       " 'keywords.csv',\n",
       " 'links.csv',\n",
       " 'links_small.csv',\n",
       " 'movies_metadata.csv',\n",
       " 'ratings.csv',\n",
       " 'ratings_small.csv']"
      ]
     },
     "execution_count": 2,
     "metadata": {},
     "output_type": "execute_result"
    }
   ],
   "source": [
    "os.listdir(\"./data/in/the-movies-dataset\")"
   ]
  },
  {
   "cell_type": "code",
   "execution_count": 3,
   "id": "dec352eb-fded-4e1c-ad22-e70c77714ce6",
   "metadata": {},
   "outputs": [],
   "source": [
    "dates = pd.read_csv(\"data/in/the-movies-dataset/movies_metadata.csv\", usecols=['id','release_date'])"
   ]
  },
  {
   "cell_type": "code",
   "execution_count": 4,
   "id": "fa9716e0-b873-4ef8-b7de-03c7816f2029",
   "metadata": {},
   "outputs": [
    {
     "data": {
      "text/html": [
       "<div>\n",
       "<style scoped>\n",
       "    .dataframe tbody tr th:only-of-type {\n",
       "        vertical-align: middle;\n",
       "    }\n",
       "\n",
       "    .dataframe tbody tr th {\n",
       "        vertical-align: top;\n",
       "    }\n",
       "\n",
       "    .dataframe thead th {\n",
       "        text-align: right;\n",
       "    }\n",
       "</style>\n",
       "<table border=\"1\" class=\"dataframe\">\n",
       "  <thead>\n",
       "    <tr style=\"text-align: right;\">\n",
       "      <th></th>\n",
       "      <th>id</th>\n",
       "      <th>release_date</th>\n",
       "    </tr>\n",
       "  </thead>\n",
       "  <tbody>\n",
       "    <tr>\n",
       "      <th>0</th>\n",
       "      <td>862</td>\n",
       "      <td>1995-10-30</td>\n",
       "    </tr>\n",
       "    <tr>\n",
       "      <th>1</th>\n",
       "      <td>8844</td>\n",
       "      <td>1995-12-15</td>\n",
       "    </tr>\n",
       "    <tr>\n",
       "      <th>2</th>\n",
       "      <td>15602</td>\n",
       "      <td>1995-12-22</td>\n",
       "    </tr>\n",
       "    <tr>\n",
       "      <th>3</th>\n",
       "      <td>31357</td>\n",
       "      <td>1995-12-22</td>\n",
       "    </tr>\n",
       "    <tr>\n",
       "      <th>4</th>\n",
       "      <td>11862</td>\n",
       "      <td>1995-02-10</td>\n",
       "    </tr>\n",
       "  </tbody>\n",
       "</table>\n",
       "</div>"
      ],
      "text/plain": [
       "      id release_date\n",
       "0    862   1995-10-30\n",
       "1   8844   1995-12-15\n",
       "2  15602   1995-12-22\n",
       "3  31357   1995-12-22\n",
       "4  11862   1995-02-10"
      ]
     },
     "execution_count": 4,
     "metadata": {},
     "output_type": "execute_result"
    }
   ],
   "source": [
    "dates.head()"
   ]
  },
  {
   "cell_type": "code",
   "execution_count": 5,
   "id": "a6158d17-716c-4856-a386-cd5a27a3cc43",
   "metadata": {},
   "outputs": [],
   "source": [
    "# pd.to_datetime(dates['release_date']) get errors "
   ]
  },
  {
   "cell_type": "code",
   "execution_count": 6,
   "id": "e7255c5d-110c-4445-bb84-ffb4dd0d6f9e",
   "metadata": {},
   "outputs": [],
   "source": [
    "def get_error_indx(data_col):\n",
    "    error_indx = []\n",
    "    for i in range(data_col.shape[0]):\n",
    "        try:\n",
    "            pd.to_datetime(data_col[i])\n",
    "        except:\n",
    "            error_indx.append(i)\n",
    "    return error_indx"
   ]
  },
  {
   "cell_type": "code",
   "execution_count": 7,
   "id": "8f13822a-809f-4a78-8767-3ae10eeccdfd",
   "metadata": {},
   "outputs": [],
   "source": [
    "error_indx = get_error_indx(dates['release_date'])"
   ]
  },
  {
   "cell_type": "code",
   "execution_count": 8,
   "id": "909d4b58-109b-4afd-bfc2-b5538a4f8708",
   "metadata": {},
   "outputs": [
    {
     "data": {
      "text/html": [
       "<div>\n",
       "<style scoped>\n",
       "    .dataframe tbody tr th:only-of-type {\n",
       "        vertical-align: middle;\n",
       "    }\n",
       "\n",
       "    .dataframe tbody tr th {\n",
       "        vertical-align: top;\n",
       "    }\n",
       "\n",
       "    .dataframe thead th {\n",
       "        text-align: right;\n",
       "    }\n",
       "</style>\n",
       "<table border=\"1\" class=\"dataframe\">\n",
       "  <thead>\n",
       "    <tr style=\"text-align: right;\">\n",
       "      <th></th>\n",
       "      <th>id</th>\n",
       "      <th>release_date</th>\n",
       "    </tr>\n",
       "  </thead>\n",
       "  <tbody>\n",
       "    <tr>\n",
       "      <th>19730</th>\n",
       "      <td>1997-08-20</td>\n",
       "      <td>1</td>\n",
       "    </tr>\n",
       "    <tr>\n",
       "      <th>29503</th>\n",
       "      <td>2012-09-29</td>\n",
       "      <td>12</td>\n",
       "    </tr>\n",
       "    <tr>\n",
       "      <th>35587</th>\n",
       "      <td>2014-01-01</td>\n",
       "      <td>22</td>\n",
       "    </tr>\n",
       "  </tbody>\n",
       "</table>\n",
       "</div>"
      ],
      "text/plain": [
       "               id release_date\n",
       "19730  1997-08-20            1\n",
       "29503  2012-09-29           12\n",
       "35587  2014-01-01           22"
      ]
     },
     "execution_count": 8,
     "metadata": {},
     "output_type": "execute_result"
    }
   ],
   "source": [
    "dates.iloc[error_indx]"
   ]
  },
  {
   "cell_type": "markdown",
   "id": "86013e4a-19b5-4fa9-aa7c-acf4d8c2c9c4",
   "metadata": {},
   "source": [
    "it seems that the to columns replaced"
   ]
  },
  {
   "cell_type": "code",
   "execution_count": 9,
   "id": "9f629192-09fe-4b57-8b26-21a55cd02d9b",
   "metadata": {},
   "outputs": [],
   "source": [
    "dates.loc[error_indx,['id','release_date']] = dates.loc[error_indx,['release_date','id']].values"
   ]
  },
  {
   "cell_type": "code",
   "execution_count": 10,
   "id": "67524aca-d4f6-4dde-a44b-cefaddc4066e",
   "metadata": {},
   "outputs": [
    {
     "data": {
      "text/html": [
       "<div>\n",
       "<style scoped>\n",
       "    .dataframe tbody tr th:only-of-type {\n",
       "        vertical-align: middle;\n",
       "    }\n",
       "\n",
       "    .dataframe tbody tr th {\n",
       "        vertical-align: top;\n",
       "    }\n",
       "\n",
       "    .dataframe thead th {\n",
       "        text-align: right;\n",
       "    }\n",
       "</style>\n",
       "<table border=\"1\" class=\"dataframe\">\n",
       "  <thead>\n",
       "    <tr style=\"text-align: right;\">\n",
       "      <th></th>\n",
       "      <th>id</th>\n",
       "      <th>release_date</th>\n",
       "    </tr>\n",
       "  </thead>\n",
       "  <tbody>\n",
       "    <tr>\n",
       "      <th>19730</th>\n",
       "      <td>1</td>\n",
       "      <td>1997-08-20</td>\n",
       "    </tr>\n",
       "    <tr>\n",
       "      <th>29503</th>\n",
       "      <td>12</td>\n",
       "      <td>2012-09-29</td>\n",
       "    </tr>\n",
       "    <tr>\n",
       "      <th>35587</th>\n",
       "      <td>22</td>\n",
       "      <td>2014-01-01</td>\n",
       "    </tr>\n",
       "  </tbody>\n",
       "</table>\n",
       "</div>"
      ],
      "text/plain": [
       "       id release_date\n",
       "19730   1   1997-08-20\n",
       "29503  12   2012-09-29\n",
       "35587  22   2014-01-01"
      ]
     },
     "execution_count": 10,
     "metadata": {},
     "output_type": "execute_result"
    }
   ],
   "source": [
    "dates.iloc[error_indx]"
   ]
  },
  {
   "cell_type": "markdown",
   "id": "057ad930-b03a-4174-a401-fd18fc7f2a4e",
   "metadata": {},
   "source": [
    "Done"
   ]
  },
  {
   "cell_type": "code",
   "execution_count": 11,
   "id": "1a671439-2aec-4f05-baf3-6e888ab53995",
   "metadata": {},
   "outputs": [
    {
     "data": {
      "text/plain": [
       "id              False\n",
       "release_date     True\n",
       "dtype: bool"
      ]
     },
     "execution_count": 11,
     "metadata": {},
     "output_type": "execute_result"
    }
   ],
   "source": [
    "dates.isna().any()"
   ]
  },
  {
   "cell_type": "code",
   "execution_count": 12,
   "id": "ab57bb15-2755-47c8-af00-e62776b5f6af",
   "metadata": {},
   "outputs": [],
   "source": [
    "dates.dropna(inplace=True)"
   ]
  },
  {
   "cell_type": "code",
   "execution_count": 13,
   "id": "a6bc6e95-f94a-41ee-a892-8df5d0ff00de",
   "metadata": {},
   "outputs": [
    {
     "data": {
      "text/plain": [
       "30"
      ]
     },
     "execution_count": 13,
     "metadata": {},
     "output_type": "execute_result"
    }
   ],
   "source": [
    "dates.duplicated().sum()"
   ]
  },
  {
   "cell_type": "code",
   "execution_count": 14,
   "id": "3560e517-6726-4b1a-81d7-d9af7740e780",
   "metadata": {},
   "outputs": [],
   "source": [
    "dates.drop_duplicates(inplace=True)"
   ]
  },
  {
   "cell_type": "code",
   "execution_count": 15,
   "id": "42c14c80-5462-4a11-85da-c08d7ab0c95b",
   "metadata": {},
   "outputs": [],
   "source": [
    "dates[\"release_date\"] = pd.to_datetime(dates['release_date'])"
   ]
  },
  {
   "cell_type": "code",
   "execution_count": 16,
   "id": "2231e326-159f-484b-81ce-7599620bc064",
   "metadata": {},
   "outputs": [],
   "source": [
    "dates['year'] = dates['release_date'].dt.year.astype(int)\n",
    "dates['quarter'] = dates['release_date'].dt.to_period('Q').dt.strftime('Q%q')\n",
    "dates['month'] = dates['release_date'].dt.month_name()\n",
    "dates['day'] = dates['release_date'].dt.day_name()"
   ]
  },
  {
   "cell_type": "code",
   "execution_count": 17,
   "id": "a28b0f26-31e2-4b30-864d-462684a16b95",
   "metadata": {},
   "outputs": [
    {
     "data": {
      "text/html": [
       "<div>\n",
       "<style scoped>\n",
       "    .dataframe tbody tr th:only-of-type {\n",
       "        vertical-align: middle;\n",
       "    }\n",
       "\n",
       "    .dataframe tbody tr th {\n",
       "        vertical-align: top;\n",
       "    }\n",
       "\n",
       "    .dataframe thead th {\n",
       "        text-align: right;\n",
       "    }\n",
       "</style>\n",
       "<table border=\"1\" class=\"dataframe\">\n",
       "  <thead>\n",
       "    <tr style=\"text-align: right;\">\n",
       "      <th></th>\n",
       "      <th>id</th>\n",
       "      <th>release_date</th>\n",
       "      <th>year</th>\n",
       "      <th>quarter</th>\n",
       "      <th>month</th>\n",
       "      <th>day</th>\n",
       "    </tr>\n",
       "  </thead>\n",
       "  <tbody>\n",
       "    <tr>\n",
       "      <th>0</th>\n",
       "      <td>862</td>\n",
       "      <td>1995-10-30</td>\n",
       "      <td>1995</td>\n",
       "      <td>Q4</td>\n",
       "      <td>October</td>\n",
       "      <td>Monday</td>\n",
       "    </tr>\n",
       "    <tr>\n",
       "      <th>1</th>\n",
       "      <td>8844</td>\n",
       "      <td>1995-12-15</td>\n",
       "      <td>1995</td>\n",
       "      <td>Q4</td>\n",
       "      <td>December</td>\n",
       "      <td>Friday</td>\n",
       "    </tr>\n",
       "    <tr>\n",
       "      <th>2</th>\n",
       "      <td>15602</td>\n",
       "      <td>1995-12-22</td>\n",
       "      <td>1995</td>\n",
       "      <td>Q4</td>\n",
       "      <td>December</td>\n",
       "      <td>Friday</td>\n",
       "    </tr>\n",
       "    <tr>\n",
       "      <th>3</th>\n",
       "      <td>31357</td>\n",
       "      <td>1995-12-22</td>\n",
       "      <td>1995</td>\n",
       "      <td>Q4</td>\n",
       "      <td>December</td>\n",
       "      <td>Friday</td>\n",
       "    </tr>\n",
       "    <tr>\n",
       "      <th>4</th>\n",
       "      <td>11862</td>\n",
       "      <td>1995-02-10</td>\n",
       "      <td>1995</td>\n",
       "      <td>Q1</td>\n",
       "      <td>February</td>\n",
       "      <td>Friday</td>\n",
       "    </tr>\n",
       "    <tr>\n",
       "      <th>...</th>\n",
       "      <td>...</td>\n",
       "      <td>...</td>\n",
       "      <td>...</td>\n",
       "      <td>...</td>\n",
       "      <td>...</td>\n",
       "      <td>...</td>\n",
       "    </tr>\n",
       "    <tr>\n",
       "      <th>45460</th>\n",
       "      <td>30840</td>\n",
       "      <td>1991-05-13</td>\n",
       "      <td>1991</td>\n",
       "      <td>Q2</td>\n",
       "      <td>May</td>\n",
       "      <td>Monday</td>\n",
       "    </tr>\n",
       "    <tr>\n",
       "      <th>45462</th>\n",
       "      <td>111109</td>\n",
       "      <td>2011-11-17</td>\n",
       "      <td>2011</td>\n",
       "      <td>Q4</td>\n",
       "      <td>November</td>\n",
       "      <td>Thursday</td>\n",
       "    </tr>\n",
       "    <tr>\n",
       "      <th>45463</th>\n",
       "      <td>67758</td>\n",
       "      <td>2003-08-01</td>\n",
       "      <td>2003</td>\n",
       "      <td>Q3</td>\n",
       "      <td>August</td>\n",
       "      <td>Friday</td>\n",
       "    </tr>\n",
       "    <tr>\n",
       "      <th>45464</th>\n",
       "      <td>227506</td>\n",
       "      <td>1917-10-21</td>\n",
       "      <td>1917</td>\n",
       "      <td>Q4</td>\n",
       "      <td>October</td>\n",
       "      <td>Sunday</td>\n",
       "    </tr>\n",
       "    <tr>\n",
       "      <th>45465</th>\n",
       "      <td>461257</td>\n",
       "      <td>2017-06-09</td>\n",
       "      <td>2017</td>\n",
       "      <td>Q2</td>\n",
       "      <td>June</td>\n",
       "      <td>Friday</td>\n",
       "    </tr>\n",
       "  </tbody>\n",
       "</table>\n",
       "<p>45349 rows × 6 columns</p>\n",
       "</div>"
      ],
      "text/plain": [
       "           id release_date  year quarter     month       day\n",
       "0         862   1995-10-30  1995      Q4   October    Monday\n",
       "1        8844   1995-12-15  1995      Q4  December    Friday\n",
       "2       15602   1995-12-22  1995      Q4  December    Friday\n",
       "3       31357   1995-12-22  1995      Q4  December    Friday\n",
       "4       11862   1995-02-10  1995      Q1  February    Friday\n",
       "...       ...          ...   ...     ...       ...       ...\n",
       "45460   30840   1991-05-13  1991      Q2       May    Monday\n",
       "45462  111109   2011-11-17  2011      Q4  November  Thursday\n",
       "45463   67758   2003-08-01  2003      Q3    August    Friday\n",
       "45464  227506   1917-10-21  1917      Q4   October    Sunday\n",
       "45465  461257   2017-06-09  2017      Q2      June    Friday\n",
       "\n",
       "[45349 rows x 6 columns]"
      ]
     },
     "execution_count": 17,
     "metadata": {},
     "output_type": "execute_result"
    }
   ],
   "source": [
    "dates"
   ]
  },
  {
   "cell_type": "code",
   "execution_count": 20,
   "id": "d323cc69-3202-4e34-9afa-9f2468fd924d",
   "metadata": {},
   "outputs": [
    {
     "name": "stdout",
     "output_type": "stream",
     "text": [
      "File Exist\n"
     ]
    }
   ],
   "source": [
    "evaluate.create_dir(\"data/out\")\n",
    "dates.to_csv(\"data/out/Dim-Dates.csv\", index=False)"
   ]
  },
  {
   "cell_type": "code",
   "execution_count": null,
   "id": "9d5c7647-414f-4c9e-be4f-2b2eaa40ffc8",
   "metadata": {},
   "outputs": [],
   "source": []
  }
 ],
 "metadata": {
  "kernelspec": {
   "display_name": "Python 3 (ipykernel)",
   "language": "python",
   "name": "python3"
  },
  "language_info": {
   "codemirror_mode": {
    "name": "ipython",
    "version": 3
   },
   "file_extension": ".py",
   "mimetype": "text/x-python",
   "name": "python",
   "nbconvert_exporter": "python",
   "pygments_lexer": "ipython3",
   "version": "3.9.12"
  }
 },
 "nbformat": 4,
 "nbformat_minor": 5
}
