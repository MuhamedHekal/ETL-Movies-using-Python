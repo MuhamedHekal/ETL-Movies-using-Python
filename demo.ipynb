{
 "cells": [
  {
   "cell_type": "code",
   "execution_count": 1,
   "id": "7cec298d-3345-491a-b20a-1216ea65a055",
   "metadata": {},
   "outputs": [],
   "source": [
    "import pandas as pd \n",
    "import os \n",
    "from ast import literal_eval\n"
   ]
  },
  {
   "cell_type": "code",
   "execution_count": 2,
   "id": "90cd404b-e112-4b83-b713-994d7ba6a269",
   "metadata": {},
   "outputs": [
    {
     "data": {
      "text/plain": [
       "['credits.csv',\n",
       " 'keywords.csv',\n",
       " 'links.csv',\n",
       " 'links_small.csv',\n",
       " 'movies_metadata.csv',\n",
       " 'ratings.csv',\n",
       " 'ratings_small.csv']"
      ]
     },
     "execution_count": 2,
     "metadata": {},
     "output_type": "execute_result"
    }
   ],
   "source": [
    "os.listdir(\"./data/in/the-movies-dataset\")"
   ]
  },
  {
   "cell_type": "code",
   "execution_count": 3,
   "id": "1df9839f-2e30-4f93-aa77-82d871ff4399",
   "metadata": {},
   "outputs": [
    {
     "data": {
      "text/plain": [
       "['Consumer Price Index of Admission to Movies.csv']"
      ]
     },
     "execution_count": 3,
     "metadata": {},
     "output_type": "execute_result"
    }
   ],
   "source": [
    "os.listdir(\"./data/in/fred\")"
   ]
  },
  {
   "cell_type": "code",
   "execution_count": 224,
   "id": "401da334-7326-4199-8a43-d52c4d77519e",
   "metadata": {},
   "outputs": [
    {
     "name": "stderr",
     "output_type": "stream",
     "text": [
      "C:\\Users\\hheka\\AppData\\Local\\Temp\\ipykernel_22084\\893136744.py:3: DtypeWarning: Columns (10) have mixed types. Specify dtype option on import or set low_memory=False.\n",
      "  movies = pd.read_csv(\"data/in/the-movies-dataset/movies_metadata.csv\")\n"
     ]
    }
   ],
   "source": [
    "credits = pd.read_csv(\"data/in/the-movies-dataset/credits.csv\")\n",
    "keywords = pd.read_csv(\"data/in/the-movies-dataset/keywords.csv\")\n",
    "movies = pd.read_csv(\"data/in/the-movies-dataset/movies_metadata.csv\")\n",
    "rating = pd.read_csv(\"data/in/the-movies-dataset/ratings_small.csv\")\n",
    "CPI = pd.read_csv(\"data/in/fred/Consumer Price Index of Admission to Movies.csv\")"
   ]
  },
  {
   "cell_type": "code",
   "execution_count": 225,
   "id": "ee2bdb9d-7ef9-4eb2-93b4-40f71b712342",
   "metadata": {},
   "outputs": [
    {
     "data": {
      "text/plain": [
       "Index(['adult', 'belongs_to_collection', 'budget', 'genres', 'homepage', 'id',\n",
       "       'imdb_id', 'original_language', 'original_title', 'overview',\n",
       "       'popularity', 'poster_path', 'production_companies',\n",
       "       'production_countries', 'release_date', 'revenue', 'runtime',\n",
       "       'spoken_languages', 'status', 'tagline', 'title', 'video',\n",
       "       'vote_average', 'vote_count'],\n",
       "      dtype='object')"
      ]
     },
     "execution_count": 225,
     "metadata": {},
     "output_type": "execute_result"
    }
   ],
   "source": [
    "movies.columns"
   ]
  },
  {
   "cell_type": "code",
   "execution_count": 226,
   "id": "b6c9f5fa-f54c-4731-81ae-9cc68994b346",
   "metadata": {},
   "outputs": [],
   "source": [
    "movies = movies[['adult', 'budget', 'genres','id','original_language', \n",
    "        'original_title','popularity', 'production_companies',\n",
    "        'release_date', 'revenue', 'runtime', 'vote_average', 'vote_count']]"
   ]
  },
  {
   "cell_type": "code",
   "execution_count": 239,
   "id": "9b962054-58d1-4491-999c-9c4b694b1e2b",
   "metadata": {},
   "outputs": [],
   "source": [
    "date = movies[[\"release_date\",\"id\"]]\n",
    "cast = credits[[\"cast\",\"id\"]]\n",
    "crew = credits[[\"crew\",\"id\"]]\n",
    "generes = movies[[\"genres\",\"id\"]]\n",
    "company_name = movies[[\"production_companies\",\"id\"]]\n",
    "keywords = keywords[[\"keywords\",\"id\"]]"
   ]
  },
  {
   "cell_type": "code",
   "execution_count": 258,
   "id": "4a99086c-c967-48a6-85e2-e0491d342788",
   "metadata": {},
   "outputs": [],
   "source": [
    "cast_clean = pd.DataFrame()\n",
    "for i in range(cast.shape[0]):\n",
    "    test_str  = cast.cast[i]\n",
    "    res = list(eval(test_str))\n",
    "    res = pd.DataFrame(res)\n",
    "    res['movie_id'] = cast['id'][i]\n",
    "    cast_clean = pd.concat([cast_clean,res],axis=0,ignore_index= True)"
   ]
  },
  {
   "cell_type": "code",
   "execution_count": 261,
   "id": "537881aa-890e-4ccb-9744-6d13c4eb3187",
   "metadata": {},
   "outputs": [],
   "source": [
    "cast_clean.to_csv(\"cleanedcast.csv\", index=False)"
   ]
  },
  {
   "cell_type": "code",
   "execution_count": null,
   "id": "5aab0fd1-c046-4b6d-a9a2-99b9dff42501",
   "metadata": {},
   "outputs": [],
   "source": []
  }
 ],
 "metadata": {
  "kernelspec": {
   "display_name": "Python 3 (ipykernel)",
   "language": "python",
   "name": "python3"
  },
  "language_info": {
   "codemirror_mode": {
    "name": "ipython",
    "version": 3
   },
   "file_extension": ".py",
   "mimetype": "text/x-python",
   "name": "python",
   "nbconvert_exporter": "python",
   "pygments_lexer": "ipython3",
   "version": "3.9.12"
  }
 },
 "nbformat": 4,
 "nbformat_minor": 5
}
