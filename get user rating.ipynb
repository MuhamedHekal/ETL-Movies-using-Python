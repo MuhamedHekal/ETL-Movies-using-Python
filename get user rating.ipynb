{
 "cells": [
  {
   "cell_type": "code",
   "execution_count": 1,
   "id": "d867b1cf-276b-4dbd-acc4-32dc4cb2cc18",
   "metadata": {},
   "outputs": [],
   "source": [
    "import pandas as pd"
   ]
  },
  {
   "cell_type": "code",
   "execution_count": 2,
   "id": "9b427d09-24e5-4635-986e-55fa45f291a6",
   "metadata": {},
   "outputs": [],
   "source": [
    "df = pd.read_csv('data/in/the-movies-dataset/ratings.csv')"
   ]
  },
  {
   "cell_type": "code",
   "execution_count": 3,
   "id": "b9946c33-d130-4149-a9c1-42929cdaf524",
   "metadata": {},
   "outputs": [],
   "source": [
    "df = df[['movieId','rating']]"
   ]
  },
  {
   "cell_type": "code",
   "execution_count": 6,
   "id": "c9224d3f-8809-499d-85d2-807f2101ceee",
   "metadata": {},
   "outputs": [],
   "source": [
    "df = pd.DataFrame(df.groupby(['movieId'])['rating'].mean())"
   ]
  },
  {
   "cell_type": "code",
   "execution_count": 9,
   "id": "ae998b29-8fcd-4b58-97ea-e61eb56d0795",
   "metadata": {},
   "outputs": [],
   "source": [
    "df = df.reset_index()"
   ]
  },
  {
   "cell_type": "code",
   "execution_count": 11,
   "id": "b6359852-a763-49ca-85ae-2fe078e8db0c",
   "metadata": {},
   "outputs": [],
   "source": [
    "df.to_csv('data/evaluate/raw/userrating.csv', index=False)"
   ]
  },
  {
   "cell_type": "code",
   "execution_count": null,
   "id": "b7ccf387-ce63-4504-94fd-5a54a4867db7",
   "metadata": {},
   "outputs": [],
   "source": []
  }
 ],
 "metadata": {
  "kernelspec": {
   "display_name": "Python 3 (ipykernel)",
   "language": "python",
   "name": "python3"
  },
  "language_info": {
   "codemirror_mode": {
    "name": "ipython",
    "version": 3
   },
   "file_extension": ".py",
   "mimetype": "text/x-python",
   "name": "python",
   "nbconvert_exporter": "python",
   "pygments_lexer": "ipython3",
   "version": "3.9.12"
  }
 },
 "nbformat": 4,
 "nbformat_minor": 5
}
