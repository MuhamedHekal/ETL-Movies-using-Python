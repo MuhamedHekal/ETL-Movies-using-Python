{
 "cells": [
  {
   "cell_type": "markdown",
   "id": "69f33fec-8195-4b27-8d6a-f11b42c17395",
   "metadata": {},
   "source": [
    "# Download API Key"
   ]
  },
  {
   "cell_type": "markdown",
   "id": "4c38af50-284f-41c4-9ca0-b5b11dfbb210",
   "metadata": {},
   "source": [
    "Below is example of steps to get the API username and key. Each student will have their own username and key."
   ]
  },
  {
   "cell_type": "markdown",
   "id": "e89285c6-27ba-4522-a4c3-295b202b0646",
   "metadata": {},
   "source": [
    "1. Open account settings.\n",
    "<img src=\"./img/download Api0.png\" alt=\"1\">\n"
   ]
  },
  {
   "cell_type": "markdown",
   "id": "15a359ad-dbd8-4609-9735-90a8c89515b0",
   "metadata": {
    "tags": []
   },
   "source": [
    "2. Scroll down to API and click Create New API Token.\n",
    "<img src=\"./img/download Api1.png\" alt=\"2\">\n",
    "<img src=\"./img/download Api2.png\" alt=\"2\">"
   ]
  },
  {
   "cell_type": "markdown",
   "id": "2ab7b2c4-8d9c-41a0-a501-77e6258a0026",
   "metadata": {},
   "source": [
    "3. Open up `kaggle.json` and use the username and key.\n",
    "<img src=\"./img/download Api3.png\" alt=\"2\">"
   ]
  },
  {
   "cell_type": "code",
   "execution_count": 1,
   "id": "763c5b7d-8ce2-4932-b1e5-1260081ec183",
   "metadata": {
    "tags": []
   },
   "outputs": [],
   "source": [
    "#pip install full-fred"
   ]
  },
  {
   "cell_type": "code",
   "execution_count": 2,
   "id": "b437cea3-3ec1-4e3e-959a-19ac8daef907",
   "metadata": {},
   "outputs": [],
   "source": [
    "import opendatasets as od\n",
    "import requests\n",
    "import pandas as pd \n",
    "from full_fred.fred import Fred\n",
    "import os"
   ]
  },
  {
   "cell_type": "code",
   "execution_count": 3,
   "id": "c683d612-d95d-46f4-87cf-73fa5fe8c7b1",
   "metadata": {},
   "outputs": [],
   "source": [
    "try:\n",
    "    os.makedirs(\"./data/in/fred\")\n",
    "except FileExistsError:\n",
    "    pass"
   ]
  },
  {
   "cell_type": "code",
   "execution_count": 4,
   "id": "a0afee9a-f609-470a-ad88-2b336d5dc72c",
   "metadata": {},
   "outputs": [
    {
     "name": "stdout",
     "output_type": "stream",
     "text": [
      "Downloading the-movies-dataset.zip to data/in\\the-movies-dataset\n"
     ]
    },
    {
     "name": "stderr",
     "output_type": "stream",
     "text": [
      "100%|███████████████████████████████████████████████████████████████████████████████| 228M/228M [01:35<00:00, 2.49MB/s]\n"
     ]
    },
    {
     "name": "stdout",
     "output_type": "stream",
     "text": [
      "\n"
     ]
    }
   ],
   "source": [
    "od.download(\"https://www.kaggle.com/datasets/rounakbanik/the-movies-dataset\",data_dir='data/in')"
   ]
  },
  {
   "cell_type": "markdown",
   "id": "8d1dcc83-cf84-4b76-a496-1d0dea26c4f0",
   "metadata": {},
   "source": [
    "Dwonload the Consumer Price Index of Admission to Movies, Theaters, and\n",
    "Concerts in U.S. City Average is extracted from:\n",
    "https://fred.stlouisfed.org/series/CUSR0000SS62031. This will help us normalize\n",
    "box office earnings against inflation over the years."
   ]
  },
  {
   "cell_type": "code",
   "execution_count": 5,
   "id": "27a10aa2-da72-4280-8358-2c7622b25eb8",
   "metadata": {
    "tags": []
   },
   "outputs": [],
   "source": [
    " fred = Fred('fredkey.txt')\n",
    "fred_data = fred.get_series_df('CUSR0000SS62031')\n",
    "fred_data = fred_data[['date','value']]\n",
    "fred_data.to_csv('./data/in/fred/Consumer Price Index of Admission to Movies.csv', index=False)"
   ]
  }
 ],
 "metadata": {
  "kernelspec": {
   "display_name": "Python 3 (ipykernel)",
   "language": "python",
   "name": "python3"
  },
  "language_info": {
   "codemirror_mode": {
    "name": "ipython",
    "version": 3
   },
   "file_extension": ".py",
   "mimetype": "text/x-python",
   "name": "python",
   "nbconvert_exporter": "python",
   "pygments_lexer": "ipython3",
   "version": "3.9.12"
  }
 },
 "nbformat": 4,
 "nbformat_minor": 5
}
