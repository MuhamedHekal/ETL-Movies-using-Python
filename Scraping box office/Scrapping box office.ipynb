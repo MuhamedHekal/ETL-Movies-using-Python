{
 "cells": [
  {
   "cell_type": "markdown",
   "id": "1706c19a-288b-43de-bc14-6a693de92974",
   "metadata": {},
   "source": [
    "### Get Pages Links"
   ]
  },
  {
   "cell_type": "code",
   "execution_count": 1,
   "id": "c41c520f-a9b4-4691-8ffb-18a8ccc7c53d",
   "metadata": {},
   "outputs": [],
   "source": [
    "import pandas as pd\n",
    "import requests\n",
    "from bs4 import BeautifulSoup\n",
    "import sys\n",
    "sys.path.insert(0, '../Functions/evaluate.py')\n",
    "from evaluate import progress_bar"
   ]
  },
  {
   "cell_type": "code",
   "execution_count": 5,
   "id": "be1ad004-446f-4fd6-8c01-abe1ec44470d",
   "metadata": {
    "tags": []
   },
   "outputs": [
    {
     "name": "stdout",
     "output_type": "stream",
     "text": [
      "710\r"
     ]
    }
   ],
   "source": [
    "url = \"https://www.worldwideboxoffice.com\"\n",
    "urls = []\n",
    "y=0\n",
    "soup = BeautifulSoup(requests.get(url).content)\n",
    "urls.append(url)\n",
    "while True:\n",
    "    try:\n",
    "        link = soup.find_all('a')[-10]['href']\n",
    "        text = soup.find_all('a')[-10].get_text().split('\\n')[-1].strip()\n",
    "        new_url = url+'/'+ link\n",
    "        if text != \"Next 25 >>\" :\n",
    "            urls.append(new_url)\n",
    "            break\n",
    "        if new_url in urls:\n",
    "            soup = BeautifulSoup(requests.get(new_url).content)\n",
    "            continue\n",
    "        urls.append(new_url)\n",
    "        soup = BeautifulSoup(requests.get(new_url).content)\n",
    "        y+=1\n",
    "        print(y,end='\\r')\n",
    "    except:\n",
    "        break\n",
    "    "
   ]
  },
  {
   "cell_type": "code",
   "execution_count": 6,
   "id": "9a22894b-b6c3-4f70-b33c-364dead0ef20",
   "metadata": {},
   "outputs": [],
   "source": [
    "url = pd.DataFrame(urls).drop_duplicates()"
   ]
  },
  {
   "cell_type": "code",
   "execution_count": 8,
   "id": "eaed3363-d7fc-4751-9cd9-59d39b9e46f3",
   "metadata": {},
   "outputs": [],
   "source": [
    "url.to_csv('mainlink.csv',index = False)"
   ]
  },
  {
   "cell_type": "code",
   "execution_count": 9,
   "id": "2d375edc-f6ac-4efa-a73f-68eaf6e56cb1",
   "metadata": {},
   "outputs": [
    {
     "data": {
      "text/plain": [
       "'https://www.worldwideboxoffice.com'"
      ]
     },
     "execution_count": 9,
     "metadata": {},
     "output_type": "execute_result"
    }
   ],
   "source": [
    "url[0][0]"
   ]
  },
  {
   "cell_type": "markdown",
   "id": "1fb8a37a-61a4-4f94-b793-f92622cadf80",
   "metadata": {},
   "source": [
    "### Get Movies Links"
   ]
  },
  {
   "cell_type": "code",
   "execution_count": 10,
   "id": "8f9544fe-ba64-44f9-8262-bc89dfd8e8d5",
   "metadata": {},
   "outputs": [
    {
     "name": "stdout",
     "output_type": "stream",
     "text": [
      "17772\r"
     ]
    }
   ],
   "source": [
    "base_url = \"https://www.worldwideboxoffice.com\"\n",
    "link_list = []\n",
    "for i in range(url.shape[0]):\n",
    "    soup = BeautifulSoup(requests.get(url[0][i]).content)\n",
    "    for j in range(len(soup.find('pre').find_all('a'))):\n",
    "        href = soup.find('pre').find_all('a')[j].get('href')\n",
    "        href = base_url + '/' + href\n",
    "        link_list.append(href)\n",
    "    progress_bar(i,url.shape[0],50)"
   ]
  },
  {
   "cell_type": "code",
   "execution_count": 11,
   "id": "79429f5d-b2c6-439c-9137-588333dba7f2",
   "metadata": {
    "tags": []
   },
   "outputs": [],
   "source": [
    "list_of_link = pd.DataFrame(link_list)"
   ]
  },
  {
   "cell_type": "code",
   "execution_count": 12,
   "id": "097a388f-21cd-48bf-a56a-accd271ce880",
   "metadata": {},
   "outputs": [],
   "source": [
    "list_of_link = list_of_link.drop_duplicates().reindex()"
   ]
  },
  {
   "cell_type": "code",
   "execution_count": 13,
   "id": "4cb25c7e-5e71-43c3-8e38-77cb757ba466",
   "metadata": {},
   "outputs": [],
   "source": [
    "list_of_link.to_csv('movielink.csv',index = False)"
   ]
  },
  {
   "cell_type": "code",
   "execution_count": 14,
   "id": "d307b7d2-0d8a-4a91-83bd-10c601ebc345",
   "metadata": {},
   "outputs": [
    {
     "data": {
      "text/plain": [
       "17690"
      ]
     },
     "execution_count": 14,
     "metadata": {},
     "output_type": "execute_result"
    }
   ],
   "source": [
    "list_of_link.shape[0]"
   ]
  },
  {
   "cell_type": "code",
   "execution_count": null,
   "id": "cfe7e2e9-b65a-4020-a5af-33125e4122e8",
   "metadata": {},
   "outputs": [],
   "source": [
    "list_of_link.iloc[i][0].split('=')[-1].strip()"
   ]
  },
  {
   "cell_type": "code",
   "execution_count": 2,
   "id": "9767dc23-f501-43e2-ae6c-d48c901b696b",
   "metadata": {},
   "outputs": [],
   "source": [
    "list_of_link = pd.read_csv('movielink.csv')"
   ]
  },
  {
   "cell_type": "markdown",
   "id": "bd0dc0c9-83e7-4cad-a64d-772c6a7f14c8",
   "metadata": {},
   "source": [
    "### Get Movies Data"
   ]
  },
  {
   "cell_type": "code",
   "execution_count": 5,
   "id": "4d24d375-5033-40f8-a77d-4fce8f9c75e5",
   "metadata": {
    "tags": []
   },
   "outputs": [
    {
     "name": "stdout",
     "output_type": "stream",
     "text": [
      "Progress: [------------------------------------------------> ] 99%\r"
     ]
    }
   ],
   "source": [
    "columns=['name','year', 'Domestic Gross','Overseas Gross','Worldwide Gross']\n",
    "Data = []\n",
    "for i in range(list_of_link.shape[0]):\n",
    "    data = []\n",
    "    soup = BeautifulSoup(requests.get(list_of_link.iloc[i][0]).content)\n",
    "    movie_name = soup.find_all('td')[1].find_all('td',attrs={\"itemprop\":\"name\"})[0].get_text()\n",
    "    year = list_of_link.iloc[i][0].split('=')[-1].strip()\n",
    "    data.append(movie_name)\n",
    "    data.append(year)\n",
    "    for j in range(0,3):\n",
    "        gross = soup.find_all('td')[1].find_all('span', attrs = {\"itemprop\" : 'value'})[j].get_text()\n",
    "        data.append(gross)\n",
    "    Data.append(data)\n",
    "    progress_bar(i,list_of_link.shape[0],50)\n",
    "    \n",
    "    if i +1  % int(list_of_link.shape[0]/10) == 0 :\n",
    "        Movie_data = pd.DataFrame(Data,columns=columns)\n",
    "        Movie_data.to_csv(f'MovieData/Movie_data{i}.csv',index = False)\n",
    "        Data=[]\n"
   ]
  },
  {
   "cell_type": "markdown",
   "id": "76c6e238-798a-4c6a-a8b1-0c8fc5007ff2",
   "metadata": {},
   "source": [
    "### concat all movies files "
   ]
  },
  {
   "cell_type": "code",
   "execution_count": 12,
   "id": "6dbfba56-d29d-4fb1-8367-672c757fa9f6",
   "metadata": {},
   "outputs": [],
   "source": [
    "import os\n",
    "files= list(os.listdir(\"MovieData/\"))\n",
    "columns=['name','year', 'Domestic Gross','Overseas Gross','Worldwide Gross']\n",
    "Data = pd.DataFrame(columns=columns)\n",
    "for i in files:\n",
    "    data = pd.read_csv(f\"MovieData/{i}\")\n",
    "    Data = pd.concat([Data,data],axis=0, ignore_index=True)\n",
    "Data.to_csv(\"../data/in/the-movies-dataset/BoxOffice.csv\",index=False)"
   ]
  },
  {
   "cell_type": "code",
   "execution_count": null,
   "id": "c11f84be-8c10-4261-968e-b2aea52275e7",
   "metadata": {},
   "outputs": [],
   "source": []
  }
 ],
 "metadata": {
  "kernelspec": {
   "display_name": "Python 3 (ipykernel)",
   "language": "python",
   "name": "python3"
  },
  "language_info": {
   "codemirror_mode": {
    "name": "ipython",
    "version": 3
   },
   "file_extension": ".py",
   "mimetype": "text/x-python",
   "name": "python",
   "nbconvert_exporter": "python",
   "pygments_lexer": "ipython3",
   "version": "3.9.12"
  }
 },
 "nbformat": 4,
 "nbformat_minor": 5
}
